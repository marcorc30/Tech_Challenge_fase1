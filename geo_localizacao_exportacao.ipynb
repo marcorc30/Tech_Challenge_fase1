{
 "cells": [
  {
   "cell_type": "code",
   "execution_count": 104,
   "id": "f0ea6335",
   "metadata": {},
   "outputs": [],
   "source": [
    "#Obtendo dados de geolocalizacao dos estados\n",
    "\n",
    "import requests \n",
    "import pandas as pd\n",
    "import plotly.express as px\n",
    "import Clots as sp\n",
    "import streamlit as st\n",
    "import matplotlib.pyplot as plt\n",
    "from plotly.subplots import make_subplots\n",
    "import plotly.graph_objects as go\n"
   ]
  },
  {
   "cell_type": "code",
   "execution_count": 3,
   "id": "83254ba7",
   "metadata": {},
   "outputs": [],
   "source": [
    "url = 'https://labdados.com/produtos'\n",
    "response = requests.get(url)\n",
    "geo_localizacao = pd.DataFrame.from_dict(response.json())\n",
    "geo_localizacao = geo_localizacao[['Local da compra', 'lat', 'lon']].drop_duplicates().sort_values(by='Local da compra')\n"
   ]
  },
  {
   "cell_type": "code",
   "execution_count": 6,
   "id": "b6b0d360",
   "metadata": {},
   "outputs": [
    {
     "data": {
      "text/html": [
       "<div>\n",
       "<style scoped>\n",
       "    .dataframe tbody tr th:only-of-type {\n",
       "        vertical-align: middle;\n",
       "    }\n",
       "\n",
       "    .dataframe tbody tr th {\n",
       "        vertical-align: top;\n",
       "    }\n",
       "\n",
       "    .dataframe thead th {\n",
       "        text-align: right;\n",
       "    }\n",
       "</style>\n",
       "<table border=\"1\" class=\"dataframe\">\n",
       "  <thead>\n",
       "    <tr style=\"text-align: right;\">\n",
       "      <th></th>\n",
       "      <th>lat</th>\n",
       "      <th>lon</th>\n",
       "    </tr>\n",
       "    <tr>\n",
       "      <th>UF</th>\n",
       "      <th></th>\n",
       "      <th></th>\n",
       "    </tr>\n",
       "  </thead>\n",
       "  <tbody>\n",
       "    <tr>\n",
       "      <th>AC</th>\n",
       "      <td>-8.77</td>\n",
       "      <td>-70.55</td>\n",
       "    </tr>\n",
       "    <tr>\n",
       "      <th>AL</th>\n",
       "      <td>-9.62</td>\n",
       "      <td>-36.82</td>\n",
       "    </tr>\n",
       "    <tr>\n",
       "      <th>AM</th>\n",
       "      <td>-3.47</td>\n",
       "      <td>-65.10</td>\n",
       "    </tr>\n",
       "    <tr>\n",
       "      <th>AP</th>\n",
       "      <td>1.41</td>\n",
       "      <td>-51.77</td>\n",
       "    </tr>\n",
       "    <tr>\n",
       "      <th>BA</th>\n",
       "      <td>-13.29</td>\n",
       "      <td>-41.71</td>\n",
       "    </tr>\n",
       "  </tbody>\n",
       "</table>\n",
       "</div>"
      ],
      "text/plain": [
       "      lat    lon\n",
       "UF              \n",
       "AC  -8.77 -70.55\n",
       "AL  -9.62 -36.82\n",
       "AM  -3.47 -65.10\n",
       "AP   1.41 -51.77\n",
       "BA -13.29 -41.71"
      ]
     },
     "execution_count": 6,
     "metadata": {},
     "output_type": "execute_result"
    }
   ],
   "source": [
    "geo_localizacao = geo_localizacao.rename(columns={'Local da compra': 'UF'})\n",
    "geo_localizacao = geo_localizacao.set_index('UF')\n",
    "geo_localizacao.head()"
   ]
  },
  {
   "cell_type": "code",
   "execution_count": 7,
   "id": "018d5c1f",
   "metadata": {},
   "outputs": [],
   "source": [
    "dados_exportacao = pd.read_csv('dados/_EXP_2023.csv', sep=',')"
   ]
  },
  {
   "cell_type": "code",
   "execution_count": 10,
   "id": "be523680",
   "metadata": {},
   "outputs": [
    {
     "data": {
      "text/html": [
       "<div>\n",
       "<style scoped>\n",
       "    .dataframe tbody tr th:only-of-type {\n",
       "        vertical-align: middle;\n",
       "    }\n",
       "\n",
       "    .dataframe tbody tr th {\n",
       "        vertical-align: top;\n",
       "    }\n",
       "\n",
       "    .dataframe thead th {\n",
       "        text-align: right;\n",
       "    }\n",
       "</style>\n",
       "<table border=\"1\" class=\"dataframe\">\n",
       "  <thead>\n",
       "    <tr style=\"text-align: right;\">\n",
       "      <th></th>\n",
       "      <th>CO_ANO</th>\n",
       "      <th>CO_MES</th>\n",
       "      <th>CO_NCM</th>\n",
       "      <th>CO_UNID</th>\n",
       "      <th>CO_PAIS</th>\n",
       "      <th>SG_UF_NCM</th>\n",
       "      <th>CO_VIA</th>\n",
       "      <th>CO_URF</th>\n",
       "      <th>QT_ESTAT</th>\n",
       "      <th>KG_LIQUIDO</th>\n",
       "      <th>VL_FOB</th>\n",
       "      <th>CO_SH</th>\n",
       "    </tr>\n",
       "  </thead>\n",
       "  <tbody>\n",
       "    <tr>\n",
       "      <th>0</th>\n",
       "      <td>2023</td>\n",
       "      <td>4</td>\n",
       "      <td>22042100</td>\n",
       "      <td>17</td>\n",
       "      <td>476</td>\n",
       "      <td>RS</td>\n",
       "      <td>1</td>\n",
       "      <td>1017700</td>\n",
       "      <td>5</td>\n",
       "      <td>5</td>\n",
       "      <td>26</td>\n",
       "      <td>2204</td>\n",
       "    </tr>\n",
       "    <tr>\n",
       "      <th>1</th>\n",
       "      <td>2023</td>\n",
       "      <td>9</td>\n",
       "      <td>22042100</td>\n",
       "      <td>17</td>\n",
       "      <td>351</td>\n",
       "      <td>PR</td>\n",
       "      <td>1</td>\n",
       "      <td>917800</td>\n",
       "      <td>14</td>\n",
       "      <td>13</td>\n",
       "      <td>78</td>\n",
       "      <td>2204</td>\n",
       "    </tr>\n",
       "    <tr>\n",
       "      <th>2</th>\n",
       "      <td>2023</td>\n",
       "      <td>3</td>\n",
       "      <td>22043000</td>\n",
       "      <td>17</td>\n",
       "      <td>580</td>\n",
       "      <td>SP</td>\n",
       "      <td>1</td>\n",
       "      <td>817800</td>\n",
       "      <td>28</td>\n",
       "      <td>28</td>\n",
       "      <td>108</td>\n",
       "      <td>2204</td>\n",
       "    </tr>\n",
       "    <tr>\n",
       "      <th>3</th>\n",
       "      <td>2023</td>\n",
       "      <td>9</td>\n",
       "      <td>22042910</td>\n",
       "      <td>17</td>\n",
       "      <td>628</td>\n",
       "      <td>SP</td>\n",
       "      <td>1</td>\n",
       "      <td>817800</td>\n",
       "      <td>1</td>\n",
       "      <td>1</td>\n",
       "      <td>5</td>\n",
       "      <td>2204</td>\n",
       "    </tr>\n",
       "    <tr>\n",
       "      <th>4</th>\n",
       "      <td>2023</td>\n",
       "      <td>1</td>\n",
       "      <td>22041090</td>\n",
       "      <td>17</td>\n",
       "      <td>160</td>\n",
       "      <td>RS</td>\n",
       "      <td>1</td>\n",
       "      <td>927800</td>\n",
       "      <td>5940</td>\n",
       "      <td>6178</td>\n",
       "      <td>25947</td>\n",
       "      <td>2204</td>\n",
       "    </tr>\n",
       "    <tr>\n",
       "      <th>...</th>\n",
       "      <td>...</td>\n",
       "      <td>...</td>\n",
       "      <td>...</td>\n",
       "      <td>...</td>\n",
       "      <td>...</td>\n",
       "      <td>...</td>\n",
       "      <td>...</td>\n",
       "      <td>...</td>\n",
       "      <td>...</td>\n",
       "      <td>...</td>\n",
       "      <td>...</td>\n",
       "      <td>...</td>\n",
       "    </tr>\n",
       "    <tr>\n",
       "      <th>1548</th>\n",
       "      <td>2023</td>\n",
       "      <td>3</td>\n",
       "      <td>22042910</td>\n",
       "      <td>17</td>\n",
       "      <td>580</td>\n",
       "      <td>MA</td>\n",
       "      <td>1</td>\n",
       "      <td>317903</td>\n",
       "      <td>23</td>\n",
       "      <td>23</td>\n",
       "      <td>28</td>\n",
       "      <td>2204</td>\n",
       "    </tr>\n",
       "    <tr>\n",
       "      <th>1549</th>\n",
       "      <td>2023</td>\n",
       "      <td>7</td>\n",
       "      <td>22042211</td>\n",
       "      <td>17</td>\n",
       "      <td>351</td>\n",
       "      <td>SC</td>\n",
       "      <td>1</td>\n",
       "      <td>917800</td>\n",
       "      <td>12</td>\n",
       "      <td>12</td>\n",
       "      <td>26</td>\n",
       "      <td>2204</td>\n",
       "    </tr>\n",
       "    <tr>\n",
       "      <th>1550</th>\n",
       "      <td>2023</td>\n",
       "      <td>8</td>\n",
       "      <td>22041090</td>\n",
       "      <td>17</td>\n",
       "      <td>351</td>\n",
       "      <td>BA</td>\n",
       "      <td>1</td>\n",
       "      <td>517800</td>\n",
       "      <td>2</td>\n",
       "      <td>2</td>\n",
       "      <td>17</td>\n",
       "      <td>2204</td>\n",
       "    </tr>\n",
       "    <tr>\n",
       "      <th>1551</th>\n",
       "      <td>2023</td>\n",
       "      <td>2</td>\n",
       "      <td>22042100</td>\n",
       "      <td>17</td>\n",
       "      <td>741</td>\n",
       "      <td>SC</td>\n",
       "      <td>1</td>\n",
       "      <td>917800</td>\n",
       "      <td>27</td>\n",
       "      <td>27</td>\n",
       "      <td>101</td>\n",
       "      <td>2204</td>\n",
       "    </tr>\n",
       "    <tr>\n",
       "      <th>1552</th>\n",
       "      <td>2023</td>\n",
       "      <td>1</td>\n",
       "      <td>22042100</td>\n",
       "      <td>17</td>\n",
       "      <td>161</td>\n",
       "      <td>AL</td>\n",
       "      <td>1</td>\n",
       "      <td>440151</td>\n",
       "      <td>2</td>\n",
       "      <td>1</td>\n",
       "      <td>18</td>\n",
       "      <td>2204</td>\n",
       "    </tr>\n",
       "  </tbody>\n",
       "</table>\n",
       "<p>1553 rows × 12 columns</p>\n",
       "</div>"
      ],
      "text/plain": [
       "      CO_ANO  CO_MES    CO_NCM  CO_UNID  CO_PAIS SG_UF_NCM  CO_VIA   CO_URF  \\\n",
       "0       2023       4  22042100       17      476        RS       1  1017700   \n",
       "1       2023       9  22042100       17      351        PR       1   917800   \n",
       "2       2023       3  22043000       17      580        SP       1   817800   \n",
       "3       2023       9  22042910       17      628        SP       1   817800   \n",
       "4       2023       1  22041090       17      160        RS       1   927800   \n",
       "...      ...     ...       ...      ...      ...       ...     ...      ...   \n",
       "1548    2023       3  22042910       17      580        MA       1   317903   \n",
       "1549    2023       7  22042211       17      351        SC       1   917800   \n",
       "1550    2023       8  22041090       17      351        BA       1   517800   \n",
       "1551    2023       2  22042100       17      741        SC       1   917800   \n",
       "1552    2023       1  22042100       17      161        AL       1   440151   \n",
       "\n",
       "      QT_ESTAT  KG_LIQUIDO  VL_FOB  CO_SH  \n",
       "0            5           5      26   2204  \n",
       "1           14          13      78   2204  \n",
       "2           28          28     108   2204  \n",
       "3            1           1       5   2204  \n",
       "4         5940        6178   25947   2204  \n",
       "...        ...         ...     ...    ...  \n",
       "1548        23          23      28   2204  \n",
       "1549        12          12      26   2204  \n",
       "1550         2           2      17   2204  \n",
       "1551        27          27     101   2204  \n",
       "1552         2           1      18   2204  \n",
       "\n",
       "[1553 rows x 12 columns]"
      ]
     },
     "execution_count": 10,
     "metadata": {},
     "output_type": "execute_result"
    }
   ],
   "source": [
    "dados_exportacao"
   ]
  },
  {
   "cell_type": "code",
   "execution_count": 13,
   "id": "7e985107",
   "metadata": {},
   "outputs": [],
   "source": [
    "exp_2023 = dados_exportacao.groupby(['CO_ANO', 'SG_UF_NCM']).sum().reset_index()"
   ]
  },
  {
   "cell_type": "code",
   "execution_count": 16,
   "id": "a8eb13d9",
   "metadata": {},
   "outputs": [],
   "source": [
    "exp_2023_geo = exp_2023.merge(geo_localizacao, left_on='SG_UF_NCM', right_index=True)"
   ]
  },
  {
   "cell_type": "code",
   "execution_count": 79,
   "id": "1273e975",
   "metadata": {},
   "outputs": [
    {
     "data": {
      "text/html": [
       "<div>\n",
       "<style scoped>\n",
       "    .dataframe tbody tr th:only-of-type {\n",
       "        vertical-align: middle;\n",
       "    }\n",
       "\n",
       "    .dataframe tbody tr th {\n",
       "        vertical-align: top;\n",
       "    }\n",
       "\n",
       "    .dataframe thead th {\n",
       "        text-align: right;\n",
       "    }\n",
       "</style>\n",
       "<table border=\"1\" class=\"dataframe\">\n",
       "  <thead>\n",
       "    <tr style=\"text-align: right;\">\n",
       "      <th></th>\n",
       "      <th>CO_ANO</th>\n",
       "      <th>SG_UF_NCM</th>\n",
       "      <th>CO_MES</th>\n",
       "      <th>CO_NCM</th>\n",
       "      <th>CO_UNID</th>\n",
       "      <th>CO_PAIS</th>\n",
       "      <th>CO_VIA</th>\n",
       "      <th>CO_URF</th>\n",
       "      <th>QT_ESTAT</th>\n",
       "      <th>KG_LIQUIDO</th>\n",
       "      <th>VL_FOB</th>\n",
       "      <th>CO_SH</th>\n",
       "      <th>lat</th>\n",
       "      <th>lon</th>\n",
       "    </tr>\n",
       "  </thead>\n",
       "  <tbody>\n",
       "    <tr>\n",
       "      <th>0</th>\n",
       "      <td>2023</td>\n",
       "      <td>AL</td>\n",
       "      <td>120</td>\n",
       "      <td>661262720</td>\n",
       "      <td>510</td>\n",
       "      <td>12360</td>\n",
       "      <td>30</td>\n",
       "      <td>13949777</td>\n",
       "      <td>854</td>\n",
       "      <td>824</td>\n",
       "      <td>2920</td>\n",
       "      <td>66120</td>\n",
       "      <td>-9.62</td>\n",
       "      <td>-36.82</td>\n",
       "    </tr>\n",
       "    <tr>\n",
       "      <th>1</th>\n",
       "      <td>2023</td>\n",
       "      <td>AM</td>\n",
       "      <td>88</td>\n",
       "      <td>352673600</td>\n",
       "      <td>272</td>\n",
       "      <td>7042</td>\n",
       "      <td>34</td>\n",
       "      <td>3739256</td>\n",
       "      <td>331</td>\n",
       "      <td>330</td>\n",
       "      <td>1543</td>\n",
       "      <td>35264</td>\n",
       "      <td>-3.47</td>\n",
       "      <td>-65.10</td>\n",
       "    </tr>\n",
       "    <tr>\n",
       "      <th>2</th>\n",
       "      <td>2023</td>\n",
       "      <td>AP</td>\n",
       "      <td>20</td>\n",
       "      <td>66126300</td>\n",
       "      <td>51</td>\n",
       "      <td>1672</td>\n",
       "      <td>3</td>\n",
       "      <td>720456</td>\n",
       "      <td>67</td>\n",
       "      <td>67</td>\n",
       "      <td>531</td>\n",
       "      <td>6612</td>\n",
       "      <td>1.41</td>\n",
       "      <td>-51.77</td>\n",
       "    </tr>\n",
       "    <tr>\n",
       "      <th>3</th>\n",
       "      <td>2023</td>\n",
       "      <td>BA</td>\n",
       "      <td>107</td>\n",
       "      <td>484916100</td>\n",
       "      <td>374</td>\n",
       "      <td>9562</td>\n",
       "      <td>28</td>\n",
       "      <td>11783853</td>\n",
       "      <td>3026</td>\n",
       "      <td>3017</td>\n",
       "      <td>8982</td>\n",
       "      <td>48488</td>\n",
       "      <td>-13.29</td>\n",
       "      <td>-41.71</td>\n",
       "    </tr>\n",
       "    <tr>\n",
       "      <th>4</th>\n",
       "      <td>2023</td>\n",
       "      <td>CE</td>\n",
       "      <td>49</td>\n",
       "      <td>242462010</td>\n",
       "      <td>187</td>\n",
       "      <td>4868</td>\n",
       "      <td>11</td>\n",
       "      <td>3496900</td>\n",
       "      <td>199</td>\n",
       "      <td>184</td>\n",
       "      <td>1112</td>\n",
       "      <td>24244</td>\n",
       "      <td>-5.20</td>\n",
       "      <td>-39.53</td>\n",
       "    </tr>\n",
       "  </tbody>\n",
       "</table>\n",
       "</div>"
      ],
      "text/plain": [
       "   CO_ANO SG_UF_NCM  CO_MES     CO_NCM  CO_UNID  CO_PAIS  CO_VIA    CO_URF  \\\n",
       "0    2023        AL     120  661262720      510    12360      30  13949777   \n",
       "1    2023        AM      88  352673600      272     7042      34   3739256   \n",
       "2    2023        AP      20   66126300       51     1672       3    720456   \n",
       "3    2023        BA     107  484916100      374     9562      28  11783853   \n",
       "4    2023        CE      49  242462010      187     4868      11   3496900   \n",
       "\n",
       "   QT_ESTAT  KG_LIQUIDO  VL_FOB  CO_SH    lat    lon  \n",
       "0       854         824    2920  66120  -9.62 -36.82  \n",
       "1       331         330    1543  35264  -3.47 -65.10  \n",
       "2        67          67     531   6612   1.41 -51.77  \n",
       "3      3026        3017    8982  48488 -13.29 -41.71  \n",
       "4       199         184    1112  24244  -5.20 -39.53  "
      ]
     },
     "execution_count": 79,
     "metadata": {},
     "output_type": "execute_result"
    }
   ],
   "source": [
    "exp_2023_geo.head()"
   ]
  },
  {
   "cell_type": "code",
   "execution_count": 122,
   "id": "14d29cbe",
   "metadata": {},
   "outputs": [],
   "source": [
    "fig_mapa_exportacao_quantidade = px.scatter_geo(exp_2023_geo,\n",
    "                                  lat='lat',\n",
    "                                  lon='lon',\n",
    "                                  scope='south america',\n",
    "                                  size='KG_LIQUIDO',\n",
    "                                  template='seaborn',\n",
    "                                  hover_name='SG_UF_NCM',\n",
    "                                  hover_data={'lat':True, 'lon':True},\n",
    "                                  color = \"SG_UF_NCM\",  \n",
    "                                  title='Quantidade de Exportação - KG LIQUIDO')\n",
    "\n",
    "\n",
    "fig_mapa_exportacao = px.scatter_geo(exp_2023_geo,\n",
    "                                  lat='lat',\n",
    "                                  lon='lon',\n",
    "                                  scope='south america',\n",
    "                                  template='seaborn',\n",
    "                                  hover_name='SG_UF_NCM',\n",
    "                                  hover_data={'lat':True, 'lon':True},\n",
    "                                  color = \"SG_UF_NCM\",  \n",
    "                                  title='Estados Exportadores')"
   ]
  },
  {
   "cell_type": "code",
   "execution_count": 123,
   "id": "28c70074",
   "metadata": {},
   "outputs": [
    {
     "data": {
      "application/vnd.plotly.v1+json": {
       "config": {
        "plotlyServerURL": "https://plot.ly"
       },
       "data": [
        {
         "customdata": [
          [
           -9.62,
           -36.82
          ]
         ],
         "geo": "geo",
         "hovertemplate": "<b>%{hovertext}</b><br><br>SG_UF_NCM=AL<br>lat=%{customdata[0]}<br>lon=%{customdata[1]}<extra></extra>",
         "hovertext": [
          "AL"
         ],
         "lat": [
          -9.62
         ],
         "legendgroup": "AL",
         "lon": [
          -36.82
         ],
         "marker": {
          "color": "rgb(76,114,176)",
          "symbol": "circle"
         },
         "mode": "markers",
         "name": "AL",
         "showlegend": true,
         "type": "scattergeo"
        },
        {
         "customdata": [
          [
           -3.47,
           -65.1
          ]
         ],
         "geo": "geo",
         "hovertemplate": "<b>%{hovertext}</b><br><br>SG_UF_NCM=AM<br>lat=%{customdata[0]}<br>lon=%{customdata[1]}<extra></extra>",
         "hovertext": [
          "AM"
         ],
         "lat": [
          -3.47
         ],
         "legendgroup": "AM",
         "lon": [
          -65.1
         ],
         "marker": {
          "color": "rgb(221,132,82)",
          "symbol": "circle"
         },
         "mode": "markers",
         "name": "AM",
         "showlegend": true,
         "type": "scattergeo"
        },
        {
         "customdata": [
          [
           1.41,
           -51.77
          ]
         ],
         "geo": "geo",
         "hovertemplate": "<b>%{hovertext}</b><br><br>SG_UF_NCM=AP<br>lat=%{customdata[0]}<br>lon=%{customdata[1]}<extra></extra>",
         "hovertext": [
          "AP"
         ],
         "lat": [
          1.41
         ],
         "legendgroup": "AP",
         "lon": [
          -51.77
         ],
         "marker": {
          "color": "rgb(85,168,104)",
          "symbol": "circle"
         },
         "mode": "markers",
         "name": "AP",
         "showlegend": true,
         "type": "scattergeo"
        },
        {
         "customdata": [
          [
           -13.29,
           -41.71
          ]
         ],
         "geo": "geo",
         "hovertemplate": "<b>%{hovertext}</b><br><br>SG_UF_NCM=BA<br>lat=%{customdata[0]}<br>lon=%{customdata[1]}<extra></extra>",
         "hovertext": [
          "BA"
         ],
         "lat": [
          -13.29
         ],
         "legendgroup": "BA",
         "lon": [
          -41.71
         ],
         "marker": {
          "color": "rgb(196,78,82)",
          "symbol": "circle"
         },
         "mode": "markers",
         "name": "BA",
         "showlegend": true,
         "type": "scattergeo"
        },
        {
         "customdata": [
          [
           -5.2,
           -39.53
          ]
         ],
         "geo": "geo",
         "hovertemplate": "<b>%{hovertext}</b><br><br>SG_UF_NCM=CE<br>lat=%{customdata[0]}<br>lon=%{customdata[1]}<extra></extra>",
         "hovertext": [
          "CE"
         ],
         "lat": [
          -5.2
         ],
         "legendgroup": "CE",
         "lon": [
          -39.53
         ],
         "marker": {
          "color": "rgb(129,114,179)",
          "symbol": "circle"
         },
         "mode": "markers",
         "name": "CE",
         "showlegend": true,
         "type": "scattergeo"
        },
        {
         "customdata": [
          [
           -19.19,
           -40.34
          ]
         ],
         "geo": "geo",
         "hovertemplate": "<b>%{hovertext}</b><br><br>SG_UF_NCM=ES<br>lat=%{customdata[0]}<br>lon=%{customdata[1]}<extra></extra>",
         "hovertext": [
          "ES"
         ],
         "lat": [
          -19.19
         ],
         "legendgroup": "ES",
         "lon": [
          -40.34
         ],
         "marker": {
          "color": "rgb(147,120,96)",
          "symbol": "circle"
         },
         "mode": "markers",
         "name": "ES",
         "showlegend": true,
         "type": "scattergeo"
        },
        {
         "customdata": [
          [
           -15.98,
           -49.86
          ]
         ],
         "geo": "geo",
         "hovertemplate": "<b>%{hovertext}</b><br><br>SG_UF_NCM=GO<br>lat=%{customdata[0]}<br>lon=%{customdata[1]}<extra></extra>",
         "hovertext": [
          "GO"
         ],
         "lat": [
          -15.98
         ],
         "legendgroup": "GO",
         "lon": [
          -49.86
         ],
         "marker": {
          "color": "rgb(218,139,195)",
          "symbol": "circle"
         },
         "mode": "markers",
         "name": "GO",
         "showlegend": true,
         "type": "scattergeo"
        },
        {
         "customdata": [
          [
           -5.42,
           -45.44
          ]
         ],
         "geo": "geo",
         "hovertemplate": "<b>%{hovertext}</b><br><br>SG_UF_NCM=MA<br>lat=%{customdata[0]}<br>lon=%{customdata[1]}<extra></extra>",
         "hovertext": [
          "MA"
         ],
         "lat": [
          -5.42
         ],
         "legendgroup": "MA",
         "lon": [
          -45.44
         ],
         "marker": {
          "color": "rgb(140,140,140)",
          "symbol": "circle"
         },
         "mode": "markers",
         "name": "MA",
         "showlegend": true,
         "type": "scattergeo"
        },
        {
         "customdata": [
          [
           -18.1,
           -44.38
          ]
         ],
         "geo": "geo",
         "hovertemplate": "<b>%{hovertext}</b><br><br>SG_UF_NCM=MG<br>lat=%{customdata[0]}<br>lon=%{customdata[1]}<extra></extra>",
         "hovertext": [
          "MG"
         ],
         "lat": [
          -18.1
         ],
         "legendgroup": "MG",
         "lon": [
          -44.38
         ],
         "marker": {
          "color": "rgb(204,185,116)",
          "symbol": "circle"
         },
         "mode": "markers",
         "name": "MG",
         "showlegend": true,
         "type": "scattergeo"
        },
        {
         "customdata": [
          [
           -3.79,
           -52.48
          ]
         ],
         "geo": "geo",
         "hovertemplate": "<b>%{hovertext}</b><br><br>SG_UF_NCM=PA<br>lat=%{customdata[0]}<br>lon=%{customdata[1]}<extra></extra>",
         "hovertext": [
          "PA"
         ],
         "lat": [
          -3.79
         ],
         "legendgroup": "PA",
         "lon": [
          -52.48
         ],
         "marker": {
          "color": "rgb(100,181,205)",
          "symbol": "circle"
         },
         "mode": "markers",
         "name": "PA",
         "showlegend": true,
         "type": "scattergeo"
        },
        {
         "customdata": [
          [
           -8.38,
           -37.86
          ]
         ],
         "geo": "geo",
         "hovertemplate": "<b>%{hovertext}</b><br><br>SG_UF_NCM=PE<br>lat=%{customdata[0]}<br>lon=%{customdata[1]}<extra></extra>",
         "hovertext": [
          "PE"
         ],
         "lat": [
          -8.38
         ],
         "legendgroup": "PE",
         "lon": [
          -37.86
         ],
         "marker": {
          "color": "rgb(76,114,176)",
          "symbol": "circle"
         },
         "mode": "markers",
         "name": "PE",
         "showlegend": true,
         "type": "scattergeo"
        },
        {
         "customdata": [
          [
           -24.89,
           -51.55
          ]
         ],
         "geo": "geo",
         "hovertemplate": "<b>%{hovertext}</b><br><br>SG_UF_NCM=PR<br>lat=%{customdata[0]}<br>lon=%{customdata[1]}<extra></extra>",
         "hovertext": [
          "PR"
         ],
         "lat": [
          -24.89
         ],
         "legendgroup": "PR",
         "lon": [
          -51.55
         ],
         "marker": {
          "color": "rgb(221,132,82)",
          "symbol": "circle"
         },
         "mode": "markers",
         "name": "PR",
         "showlegend": true,
         "type": "scattergeo"
        },
        {
         "customdata": [
          [
           -22.25,
           -42.66
          ]
         ],
         "geo": "geo",
         "hovertemplate": "<b>%{hovertext}</b><br><br>SG_UF_NCM=RJ<br>lat=%{customdata[0]}<br>lon=%{customdata[1]}<extra></extra>",
         "hovertext": [
          "RJ"
         ],
         "lat": [
          -22.25
         ],
         "legendgroup": "RJ",
         "lon": [
          -42.66
         ],
         "marker": {
          "color": "rgb(85,168,104)",
          "symbol": "circle"
         },
         "mode": "markers",
         "name": "RJ",
         "showlegend": true,
         "type": "scattergeo"
        },
        {
         "customdata": [
          [
           -30.17,
           -53.5
          ]
         ],
         "geo": "geo",
         "hovertemplate": "<b>%{hovertext}</b><br><br>SG_UF_NCM=RS<br>lat=%{customdata[0]}<br>lon=%{customdata[1]}<extra></extra>",
         "hovertext": [
          "RS"
         ],
         "lat": [
          -30.17
         ],
         "legendgroup": "RS",
         "lon": [
          -53.5
         ],
         "marker": {
          "color": "rgb(196,78,82)",
          "symbol": "circle"
         },
         "mode": "markers",
         "name": "RS",
         "showlegend": true,
         "type": "scattergeo"
        },
        {
         "customdata": [
          [
           -27.45,
           -50.95
          ]
         ],
         "geo": "geo",
         "hovertemplate": "<b>%{hovertext}</b><br><br>SG_UF_NCM=SC<br>lat=%{customdata[0]}<br>lon=%{customdata[1]}<extra></extra>",
         "hovertext": [
          "SC"
         ],
         "lat": [
          -27.45
         ],
         "legendgroup": "SC",
         "lon": [
          -50.95
         ],
         "marker": {
          "color": "rgb(129,114,179)",
          "symbol": "circle"
         },
         "mode": "markers",
         "name": "SC",
         "showlegend": true,
         "type": "scattergeo"
        },
        {
         "customdata": [
          [
           -22.19,
           -48.79
          ]
         ],
         "geo": "geo",
         "hovertemplate": "<b>%{hovertext}</b><br><br>SG_UF_NCM=SP<br>lat=%{customdata[0]}<br>lon=%{customdata[1]}<extra></extra>",
         "hovertext": [
          "SP"
         ],
         "lat": [
          -22.19
         ],
         "legendgroup": "SP",
         "lon": [
          -48.79
         ],
         "marker": {
          "color": "rgb(147,120,96)",
          "symbol": "circle"
         },
         "mode": "markers",
         "name": "SP",
         "showlegend": true,
         "type": "scattergeo"
        }
       ],
       "layout": {
        "geo": {
         "center": {},
         "domain": {
          "x": [
           0,
           1
          ],
          "y": [
           0,
           1
          ]
         },
         "scope": "south america"
        },
        "legend": {
         "title": {
          "text": "SG_UF_NCM"
         },
         "tracegroupgap": 0
        },
        "template": {
         "data": {
          "bar": [
           {
            "error_x": {
             "color": "rgb(36,36,36)"
            },
            "error_y": {
             "color": "rgb(36,36,36)"
            },
            "marker": {
             "line": {
              "color": "rgb(234,234,242)",
              "width": 0.5
             },
             "pattern": {
              "fillmode": "overlay",
              "size": 10,
              "solidity": 0.2
             }
            },
            "type": "bar"
           }
          ],
          "barpolar": [
           {
            "marker": {
             "line": {
              "color": "rgb(234,234,242)",
              "width": 0.5
             },
             "pattern": {
              "fillmode": "overlay",
              "size": 10,
              "solidity": 0.2
             }
            },
            "type": "barpolar"
           }
          ],
          "carpet": [
           {
            "aaxis": {
             "endlinecolor": "rgb(36,36,36)",
             "gridcolor": "white",
             "linecolor": "white",
             "minorgridcolor": "white",
             "startlinecolor": "rgb(36,36,36)"
            },
            "baxis": {
             "endlinecolor": "rgb(36,36,36)",
             "gridcolor": "white",
             "linecolor": "white",
             "minorgridcolor": "white",
             "startlinecolor": "rgb(36,36,36)"
            },
            "type": "carpet"
           }
          ],
          "choropleth": [
           {
            "colorbar": {
             "outlinewidth": 0,
             "tickcolor": "rgb(36,36,36)",
             "ticklen": 8,
             "ticks": "outside",
             "tickwidth": 2
            },
            "type": "choropleth"
           }
          ],
          "contour": [
           {
            "colorbar": {
             "outlinewidth": 0,
             "tickcolor": "rgb(36,36,36)",
             "ticklen": 8,
             "ticks": "outside",
             "tickwidth": 2
            },
            "colorscale": [
             [
              0,
              "rgb(2,4,25)"
             ],
             [
              0.06274509803921569,
              "rgb(24,15,41)"
             ],
             [
              0.12549019607843137,
              "rgb(47,23,57)"
             ],
             [
              0.18823529411764706,
              "rgb(71,28,72)"
             ],
             [
              0.25098039215686274,
              "rgb(97,30,82)"
             ],
             [
              0.3137254901960784,
              "rgb(123,30,89)"
             ],
             [
              0.3764705882352941,
              "rgb(150,27,91)"
             ],
             [
              0.4392156862745098,
              "rgb(177,22,88)"
             ],
             [
              0.5019607843137255,
              "rgb(203,26,79)"
             ],
             [
              0.5647058823529412,
              "rgb(223,47,67)"
             ],
             [
              0.6274509803921569,
              "rgb(236,76,61)"
             ],
             [
              0.6901960784313725,
              "rgb(242,107,73)"
             ],
             [
              0.7529411764705882,
              "rgb(244,135,95)"
             ],
             [
              0.8156862745098039,
              "rgb(245,162,122)"
             ],
             [
              0.8784313725490196,
              "rgb(246,188,153)"
             ],
             [
              0.9411764705882353,
              "rgb(247,212,187)"
             ],
             [
              1,
              "rgb(250,234,220)"
             ]
            ],
            "type": "contour"
           }
          ],
          "contourcarpet": [
           {
            "colorbar": {
             "outlinewidth": 0,
             "tickcolor": "rgb(36,36,36)",
             "ticklen": 8,
             "ticks": "outside",
             "tickwidth": 2
            },
            "type": "contourcarpet"
           }
          ],
          "heatmap": [
           {
            "colorbar": {
             "outlinewidth": 0,
             "tickcolor": "rgb(36,36,36)",
             "ticklen": 8,
             "ticks": "outside",
             "tickwidth": 2
            },
            "colorscale": [
             [
              0,
              "rgb(2,4,25)"
             ],
             [
              0.06274509803921569,
              "rgb(24,15,41)"
             ],
             [
              0.12549019607843137,
              "rgb(47,23,57)"
             ],
             [
              0.18823529411764706,
              "rgb(71,28,72)"
             ],
             [
              0.25098039215686274,
              "rgb(97,30,82)"
             ],
             [
              0.3137254901960784,
              "rgb(123,30,89)"
             ],
             [
              0.3764705882352941,
              "rgb(150,27,91)"
             ],
             [
              0.4392156862745098,
              "rgb(177,22,88)"
             ],
             [
              0.5019607843137255,
              "rgb(203,26,79)"
             ],
             [
              0.5647058823529412,
              "rgb(223,47,67)"
             ],
             [
              0.6274509803921569,
              "rgb(236,76,61)"
             ],
             [
              0.6901960784313725,
              "rgb(242,107,73)"
             ],
             [
              0.7529411764705882,
              "rgb(244,135,95)"
             ],
             [
              0.8156862745098039,
              "rgb(245,162,122)"
             ],
             [
              0.8784313725490196,
              "rgb(246,188,153)"
             ],
             [
              0.9411764705882353,
              "rgb(247,212,187)"
             ],
             [
              1,
              "rgb(250,234,220)"
             ]
            ],
            "type": "heatmap"
           }
          ],
          "heatmapgl": [
           {
            "colorbar": {
             "outlinewidth": 0,
             "tickcolor": "rgb(36,36,36)",
             "ticklen": 8,
             "ticks": "outside",
             "tickwidth": 2
            },
            "colorscale": [
             [
              0,
              "rgb(2,4,25)"
             ],
             [
              0.06274509803921569,
              "rgb(24,15,41)"
             ],
             [
              0.12549019607843137,
              "rgb(47,23,57)"
             ],
             [
              0.18823529411764706,
              "rgb(71,28,72)"
             ],
             [
              0.25098039215686274,
              "rgb(97,30,82)"
             ],
             [
              0.3137254901960784,
              "rgb(123,30,89)"
             ],
             [
              0.3764705882352941,
              "rgb(150,27,91)"
             ],
             [
              0.4392156862745098,
              "rgb(177,22,88)"
             ],
             [
              0.5019607843137255,
              "rgb(203,26,79)"
             ],
             [
              0.5647058823529412,
              "rgb(223,47,67)"
             ],
             [
              0.6274509803921569,
              "rgb(236,76,61)"
             ],
             [
              0.6901960784313725,
              "rgb(242,107,73)"
             ],
             [
              0.7529411764705882,
              "rgb(244,135,95)"
             ],
             [
              0.8156862745098039,
              "rgb(245,162,122)"
             ],
             [
              0.8784313725490196,
              "rgb(246,188,153)"
             ],
             [
              0.9411764705882353,
              "rgb(247,212,187)"
             ],
             [
              1,
              "rgb(250,234,220)"
             ]
            ],
            "type": "heatmapgl"
           }
          ],
          "histogram": [
           {
            "marker": {
             "pattern": {
              "fillmode": "overlay",
              "size": 10,
              "solidity": 0.2
             }
            },
            "type": "histogram"
           }
          ],
          "histogram2d": [
           {
            "colorbar": {
             "outlinewidth": 0,
             "tickcolor": "rgb(36,36,36)",
             "ticklen": 8,
             "ticks": "outside",
             "tickwidth": 2
            },
            "colorscale": [
             [
              0,
              "rgb(2,4,25)"
             ],
             [
              0.06274509803921569,
              "rgb(24,15,41)"
             ],
             [
              0.12549019607843137,
              "rgb(47,23,57)"
             ],
             [
              0.18823529411764706,
              "rgb(71,28,72)"
             ],
             [
              0.25098039215686274,
              "rgb(97,30,82)"
             ],
             [
              0.3137254901960784,
              "rgb(123,30,89)"
             ],
             [
              0.3764705882352941,
              "rgb(150,27,91)"
             ],
             [
              0.4392156862745098,
              "rgb(177,22,88)"
             ],
             [
              0.5019607843137255,
              "rgb(203,26,79)"
             ],
             [
              0.5647058823529412,
              "rgb(223,47,67)"
             ],
             [
              0.6274509803921569,
              "rgb(236,76,61)"
             ],
             [
              0.6901960784313725,
              "rgb(242,107,73)"
             ],
             [
              0.7529411764705882,
              "rgb(244,135,95)"
             ],
             [
              0.8156862745098039,
              "rgb(245,162,122)"
             ],
             [
              0.8784313725490196,
              "rgb(246,188,153)"
             ],
             [
              0.9411764705882353,
              "rgb(247,212,187)"
             ],
             [
              1,
              "rgb(250,234,220)"
             ]
            ],
            "type": "histogram2d"
           }
          ],
          "histogram2dcontour": [
           {
            "colorbar": {
             "outlinewidth": 0,
             "tickcolor": "rgb(36,36,36)",
             "ticklen": 8,
             "ticks": "outside",
             "tickwidth": 2
            },
            "colorscale": [
             [
              0,
              "rgb(2,4,25)"
             ],
             [
              0.06274509803921569,
              "rgb(24,15,41)"
             ],
             [
              0.12549019607843137,
              "rgb(47,23,57)"
             ],
             [
              0.18823529411764706,
              "rgb(71,28,72)"
             ],
             [
              0.25098039215686274,
              "rgb(97,30,82)"
             ],
             [
              0.3137254901960784,
              "rgb(123,30,89)"
             ],
             [
              0.3764705882352941,
              "rgb(150,27,91)"
             ],
             [
              0.4392156862745098,
              "rgb(177,22,88)"
             ],
             [
              0.5019607843137255,
              "rgb(203,26,79)"
             ],
             [
              0.5647058823529412,
              "rgb(223,47,67)"
             ],
             [
              0.6274509803921569,
              "rgb(236,76,61)"
             ],
             [
              0.6901960784313725,
              "rgb(242,107,73)"
             ],
             [
              0.7529411764705882,
              "rgb(244,135,95)"
             ],
             [
              0.8156862745098039,
              "rgb(245,162,122)"
             ],
             [
              0.8784313725490196,
              "rgb(246,188,153)"
             ],
             [
              0.9411764705882353,
              "rgb(247,212,187)"
             ],
             [
              1,
              "rgb(250,234,220)"
             ]
            ],
            "type": "histogram2dcontour"
           }
          ],
          "mesh3d": [
           {
            "colorbar": {
             "outlinewidth": 0,
             "tickcolor": "rgb(36,36,36)",
             "ticklen": 8,
             "ticks": "outside",
             "tickwidth": 2
            },
            "type": "mesh3d"
           }
          ],
          "parcoords": [
           {
            "line": {
             "colorbar": {
              "outlinewidth": 0,
              "tickcolor": "rgb(36,36,36)",
              "ticklen": 8,
              "ticks": "outside",
              "tickwidth": 2
             }
            },
            "type": "parcoords"
           }
          ],
          "pie": [
           {
            "automargin": true,
            "type": "pie"
           }
          ],
          "scatter": [
           {
            "fillpattern": {
             "fillmode": "overlay",
             "size": 10,
             "solidity": 0.2
            },
            "type": "scatter"
           }
          ],
          "scatter3d": [
           {
            "line": {
             "colorbar": {
              "outlinewidth": 0,
              "tickcolor": "rgb(36,36,36)",
              "ticklen": 8,
              "ticks": "outside",
              "tickwidth": 2
             }
            },
            "marker": {
             "colorbar": {
              "outlinewidth": 0,
              "tickcolor": "rgb(36,36,36)",
              "ticklen": 8,
              "ticks": "outside",
              "tickwidth": 2
             }
            },
            "type": "scatter3d"
           }
          ],
          "scattercarpet": [
           {
            "marker": {
             "colorbar": {
              "outlinewidth": 0,
              "tickcolor": "rgb(36,36,36)",
              "ticklen": 8,
              "ticks": "outside",
              "tickwidth": 2
             }
            },
            "type": "scattercarpet"
           }
          ],
          "scattergeo": [
           {
            "marker": {
             "colorbar": {
              "outlinewidth": 0,
              "tickcolor": "rgb(36,36,36)",
              "ticklen": 8,
              "ticks": "outside",
              "tickwidth": 2
             }
            },
            "type": "scattergeo"
           }
          ],
          "scattergl": [
           {
            "marker": {
             "colorbar": {
              "outlinewidth": 0,
              "tickcolor": "rgb(36,36,36)",
              "ticklen": 8,
              "ticks": "outside",
              "tickwidth": 2
             }
            },
            "type": "scattergl"
           }
          ],
          "scattermapbox": [
           {
            "marker": {
             "colorbar": {
              "outlinewidth": 0,
              "tickcolor": "rgb(36,36,36)",
              "ticklen": 8,
              "ticks": "outside",
              "tickwidth": 2
             }
            },
            "type": "scattermapbox"
           }
          ],
          "scatterpolar": [
           {
            "marker": {
             "colorbar": {
              "outlinewidth": 0,
              "tickcolor": "rgb(36,36,36)",
              "ticklen": 8,
              "ticks": "outside",
              "tickwidth": 2
             }
            },
            "type": "scatterpolar"
           }
          ],
          "scatterpolargl": [
           {
            "marker": {
             "colorbar": {
              "outlinewidth": 0,
              "tickcolor": "rgb(36,36,36)",
              "ticklen": 8,
              "ticks": "outside",
              "tickwidth": 2
             }
            },
            "type": "scatterpolargl"
           }
          ],
          "scatterternary": [
           {
            "marker": {
             "colorbar": {
              "outlinewidth": 0,
              "tickcolor": "rgb(36,36,36)",
              "ticklen": 8,
              "ticks": "outside",
              "tickwidth": 2
             }
            },
            "type": "scatterternary"
           }
          ],
          "surface": [
           {
            "colorbar": {
             "outlinewidth": 0,
             "tickcolor": "rgb(36,36,36)",
             "ticklen": 8,
             "ticks": "outside",
             "tickwidth": 2
            },
            "colorscale": [
             [
              0,
              "rgb(2,4,25)"
             ],
             [
              0.06274509803921569,
              "rgb(24,15,41)"
             ],
             [
              0.12549019607843137,
              "rgb(47,23,57)"
             ],
             [
              0.18823529411764706,
              "rgb(71,28,72)"
             ],
             [
              0.25098039215686274,
              "rgb(97,30,82)"
             ],
             [
              0.3137254901960784,
              "rgb(123,30,89)"
             ],
             [
              0.3764705882352941,
              "rgb(150,27,91)"
             ],
             [
              0.4392156862745098,
              "rgb(177,22,88)"
             ],
             [
              0.5019607843137255,
              "rgb(203,26,79)"
             ],
             [
              0.5647058823529412,
              "rgb(223,47,67)"
             ],
             [
              0.6274509803921569,
              "rgb(236,76,61)"
             ],
             [
              0.6901960784313725,
              "rgb(242,107,73)"
             ],
             [
              0.7529411764705882,
              "rgb(244,135,95)"
             ],
             [
              0.8156862745098039,
              "rgb(245,162,122)"
             ],
             [
              0.8784313725490196,
              "rgb(246,188,153)"
             ],
             [
              0.9411764705882353,
              "rgb(247,212,187)"
             ],
             [
              1,
              "rgb(250,234,220)"
             ]
            ],
            "type": "surface"
           }
          ],
          "table": [
           {
            "cells": {
             "fill": {
              "color": "rgb(231,231,240)"
             },
             "line": {
              "color": "white"
             }
            },
            "header": {
             "fill": {
              "color": "rgb(183,183,191)"
             },
             "line": {
              "color": "white"
             }
            },
            "type": "table"
           }
          ]
         },
         "layout": {
          "annotationdefaults": {
           "arrowcolor": "rgb(67,103,167)"
          },
          "autotypenumbers": "strict",
          "coloraxis": {
           "colorbar": {
            "outlinewidth": 0,
            "tickcolor": "rgb(36,36,36)",
            "ticklen": 8,
            "ticks": "outside",
            "tickwidth": 2
           }
          },
          "colorscale": {
           "sequential": [
            [
             0,
             "rgb(2,4,25)"
            ],
            [
             0.06274509803921569,
             "rgb(24,15,41)"
            ],
            [
             0.12549019607843137,
             "rgb(47,23,57)"
            ],
            [
             0.18823529411764706,
             "rgb(71,28,72)"
            ],
            [
             0.25098039215686274,
             "rgb(97,30,82)"
            ],
            [
             0.3137254901960784,
             "rgb(123,30,89)"
            ],
            [
             0.3764705882352941,
             "rgb(150,27,91)"
            ],
            [
             0.4392156862745098,
             "rgb(177,22,88)"
            ],
            [
             0.5019607843137255,
             "rgb(203,26,79)"
            ],
            [
             0.5647058823529412,
             "rgb(223,47,67)"
            ],
            [
             0.6274509803921569,
             "rgb(236,76,61)"
            ],
            [
             0.6901960784313725,
             "rgb(242,107,73)"
            ],
            [
             0.7529411764705882,
             "rgb(244,135,95)"
            ],
            [
             0.8156862745098039,
             "rgb(245,162,122)"
            ],
            [
             0.8784313725490196,
             "rgb(246,188,153)"
            ],
            [
             0.9411764705882353,
             "rgb(247,212,187)"
            ],
            [
             1,
             "rgb(250,234,220)"
            ]
           ],
           "sequentialminus": [
            [
             0,
             "rgb(2,4,25)"
            ],
            [
             0.06274509803921569,
             "rgb(24,15,41)"
            ],
            [
             0.12549019607843137,
             "rgb(47,23,57)"
            ],
            [
             0.18823529411764706,
             "rgb(71,28,72)"
            ],
            [
             0.25098039215686274,
             "rgb(97,30,82)"
            ],
            [
             0.3137254901960784,
             "rgb(123,30,89)"
            ],
            [
             0.3764705882352941,
             "rgb(150,27,91)"
            ],
            [
             0.4392156862745098,
             "rgb(177,22,88)"
            ],
            [
             0.5019607843137255,
             "rgb(203,26,79)"
            ],
            [
             0.5647058823529412,
             "rgb(223,47,67)"
            ],
            [
             0.6274509803921569,
             "rgb(236,76,61)"
            ],
            [
             0.6901960784313725,
             "rgb(242,107,73)"
            ],
            [
             0.7529411764705882,
             "rgb(244,135,95)"
            ],
            [
             0.8156862745098039,
             "rgb(245,162,122)"
            ],
            [
             0.8784313725490196,
             "rgb(246,188,153)"
            ],
            [
             0.9411764705882353,
             "rgb(247,212,187)"
            ],
            [
             1,
             "rgb(250,234,220)"
            ]
           ]
          },
          "colorway": [
           "rgb(76,114,176)",
           "rgb(221,132,82)",
           "rgb(85,168,104)",
           "rgb(196,78,82)",
           "rgb(129,114,179)",
           "rgb(147,120,96)",
           "rgb(218,139,195)",
           "rgb(140,140,140)",
           "rgb(204,185,116)",
           "rgb(100,181,205)"
          ],
          "font": {
           "color": "rgb(36,36,36)"
          },
          "geo": {
           "bgcolor": "white",
           "lakecolor": "white",
           "landcolor": "rgb(234,234,242)",
           "showlakes": true,
           "showland": true,
           "subunitcolor": "white"
          },
          "hoverlabel": {
           "align": "left"
          },
          "hovermode": "closest",
          "paper_bgcolor": "white",
          "plot_bgcolor": "rgb(234,234,242)",
          "polar": {
           "angularaxis": {
            "gridcolor": "white",
            "linecolor": "white",
            "showgrid": true,
            "ticks": ""
           },
           "bgcolor": "rgb(234,234,242)",
           "radialaxis": {
            "gridcolor": "white",
            "linecolor": "white",
            "showgrid": true,
            "ticks": ""
           }
          },
          "scene": {
           "xaxis": {
            "backgroundcolor": "rgb(234,234,242)",
            "gridcolor": "white",
            "gridwidth": 2,
            "linecolor": "white",
            "showbackground": true,
            "showgrid": true,
            "ticks": "",
            "zerolinecolor": "white"
           },
           "yaxis": {
            "backgroundcolor": "rgb(234,234,242)",
            "gridcolor": "white",
            "gridwidth": 2,
            "linecolor": "white",
            "showbackground": true,
            "showgrid": true,
            "ticks": "",
            "zerolinecolor": "white"
           },
           "zaxis": {
            "backgroundcolor": "rgb(234,234,242)",
            "gridcolor": "white",
            "gridwidth": 2,
            "linecolor": "white",
            "showbackground": true,
            "showgrid": true,
            "ticks": "",
            "zerolinecolor": "white"
           }
          },
          "shapedefaults": {
           "fillcolor": "rgb(67,103,167)",
           "line": {
            "width": 0
           },
           "opacity": 0.5
          },
          "ternary": {
           "aaxis": {
            "gridcolor": "white",
            "linecolor": "white",
            "showgrid": true,
            "ticks": ""
           },
           "baxis": {
            "gridcolor": "white",
            "linecolor": "white",
            "showgrid": true,
            "ticks": ""
           },
           "bgcolor": "rgb(234,234,242)",
           "caxis": {
            "gridcolor": "white",
            "linecolor": "white",
            "showgrid": true,
            "ticks": ""
           }
          },
          "xaxis": {
           "automargin": true,
           "gridcolor": "white",
           "linecolor": "white",
           "showgrid": true,
           "ticks": "",
           "title": {
            "standoff": 15
           },
           "zerolinecolor": "white"
          },
          "yaxis": {
           "automargin": true,
           "gridcolor": "white",
           "linecolor": "white",
           "showgrid": true,
           "ticks": "",
           "title": {
            "standoff": 15
           },
           "zerolinecolor": "white"
          }
         }
        },
        "title": {
         "text": "Estados Exportadores"
        }
       }
      },
      "text/html": [
       "<div>                            <div id=\"2be73386-b1d5-45de-9024-1719d995bb2f\" class=\"plotly-graph-div\" style=\"height:525px; width:100%;\"></div>            <script type=\"text/javascript\">                require([\"plotly\"], function(Plotly) {                    window.PLOTLYENV=window.PLOTLYENV || {};                                    if (document.getElementById(\"2be73386-b1d5-45de-9024-1719d995bb2f\")) {                    Plotly.newPlot(                        \"2be73386-b1d5-45de-9024-1719d995bb2f\",                        [{\"customdata\":[[-9.62,-36.82]],\"geo\":\"geo\",\"hovertemplate\":\"<b>%{hovertext}</b><br><br>SG_UF_NCM=AL<br>lat=%{customdata[0]}<br>lon=%{customdata[1]}<extra></extra>\",\"hovertext\":[\"AL\"],\"lat\":[-9.62],\"legendgroup\":\"AL\",\"lon\":[-36.82],\"marker\":{\"color\":\"rgb(76,114,176)\",\"symbol\":\"circle\"},\"mode\":\"markers\",\"name\":\"AL\",\"showlegend\":true,\"type\":\"scattergeo\"},{\"customdata\":[[-3.47,-65.1]],\"geo\":\"geo\",\"hovertemplate\":\"<b>%{hovertext}</b><br><br>SG_UF_NCM=AM<br>lat=%{customdata[0]}<br>lon=%{customdata[1]}<extra></extra>\",\"hovertext\":[\"AM\"],\"lat\":[-3.47],\"legendgroup\":\"AM\",\"lon\":[-65.1],\"marker\":{\"color\":\"rgb(221,132,82)\",\"symbol\":\"circle\"},\"mode\":\"markers\",\"name\":\"AM\",\"showlegend\":true,\"type\":\"scattergeo\"},{\"customdata\":[[1.41,-51.77]],\"geo\":\"geo\",\"hovertemplate\":\"<b>%{hovertext}</b><br><br>SG_UF_NCM=AP<br>lat=%{customdata[0]}<br>lon=%{customdata[1]}<extra></extra>\",\"hovertext\":[\"AP\"],\"lat\":[1.41],\"legendgroup\":\"AP\",\"lon\":[-51.77],\"marker\":{\"color\":\"rgb(85,168,104)\",\"symbol\":\"circle\"},\"mode\":\"markers\",\"name\":\"AP\",\"showlegend\":true,\"type\":\"scattergeo\"},{\"customdata\":[[-13.29,-41.71]],\"geo\":\"geo\",\"hovertemplate\":\"<b>%{hovertext}</b><br><br>SG_UF_NCM=BA<br>lat=%{customdata[0]}<br>lon=%{customdata[1]}<extra></extra>\",\"hovertext\":[\"BA\"],\"lat\":[-13.29],\"legendgroup\":\"BA\",\"lon\":[-41.71],\"marker\":{\"color\":\"rgb(196,78,82)\",\"symbol\":\"circle\"},\"mode\":\"markers\",\"name\":\"BA\",\"showlegend\":true,\"type\":\"scattergeo\"},{\"customdata\":[[-5.2,-39.53]],\"geo\":\"geo\",\"hovertemplate\":\"<b>%{hovertext}</b><br><br>SG_UF_NCM=CE<br>lat=%{customdata[0]}<br>lon=%{customdata[1]}<extra></extra>\",\"hovertext\":[\"CE\"],\"lat\":[-5.2],\"legendgroup\":\"CE\",\"lon\":[-39.53],\"marker\":{\"color\":\"rgb(129,114,179)\",\"symbol\":\"circle\"},\"mode\":\"markers\",\"name\":\"CE\",\"showlegend\":true,\"type\":\"scattergeo\"},{\"customdata\":[[-19.19,-40.34]],\"geo\":\"geo\",\"hovertemplate\":\"<b>%{hovertext}</b><br><br>SG_UF_NCM=ES<br>lat=%{customdata[0]}<br>lon=%{customdata[1]}<extra></extra>\",\"hovertext\":[\"ES\"],\"lat\":[-19.19],\"legendgroup\":\"ES\",\"lon\":[-40.34],\"marker\":{\"color\":\"rgb(147,120,96)\",\"symbol\":\"circle\"},\"mode\":\"markers\",\"name\":\"ES\",\"showlegend\":true,\"type\":\"scattergeo\"},{\"customdata\":[[-15.98,-49.86]],\"geo\":\"geo\",\"hovertemplate\":\"<b>%{hovertext}</b><br><br>SG_UF_NCM=GO<br>lat=%{customdata[0]}<br>lon=%{customdata[1]}<extra></extra>\",\"hovertext\":[\"GO\"],\"lat\":[-15.98],\"legendgroup\":\"GO\",\"lon\":[-49.86],\"marker\":{\"color\":\"rgb(218,139,195)\",\"symbol\":\"circle\"},\"mode\":\"markers\",\"name\":\"GO\",\"showlegend\":true,\"type\":\"scattergeo\"},{\"customdata\":[[-5.42,-45.44]],\"geo\":\"geo\",\"hovertemplate\":\"<b>%{hovertext}</b><br><br>SG_UF_NCM=MA<br>lat=%{customdata[0]}<br>lon=%{customdata[1]}<extra></extra>\",\"hovertext\":[\"MA\"],\"lat\":[-5.42],\"legendgroup\":\"MA\",\"lon\":[-45.44],\"marker\":{\"color\":\"rgb(140,140,140)\",\"symbol\":\"circle\"},\"mode\":\"markers\",\"name\":\"MA\",\"showlegend\":true,\"type\":\"scattergeo\"},{\"customdata\":[[-18.1,-44.38]],\"geo\":\"geo\",\"hovertemplate\":\"<b>%{hovertext}</b><br><br>SG_UF_NCM=MG<br>lat=%{customdata[0]}<br>lon=%{customdata[1]}<extra></extra>\",\"hovertext\":[\"MG\"],\"lat\":[-18.1],\"legendgroup\":\"MG\",\"lon\":[-44.38],\"marker\":{\"color\":\"rgb(204,185,116)\",\"symbol\":\"circle\"},\"mode\":\"markers\",\"name\":\"MG\",\"showlegend\":true,\"type\":\"scattergeo\"},{\"customdata\":[[-3.79,-52.48]],\"geo\":\"geo\",\"hovertemplate\":\"<b>%{hovertext}</b><br><br>SG_UF_NCM=PA<br>lat=%{customdata[0]}<br>lon=%{customdata[1]}<extra></extra>\",\"hovertext\":[\"PA\"],\"lat\":[-3.79],\"legendgroup\":\"PA\",\"lon\":[-52.48],\"marker\":{\"color\":\"rgb(100,181,205)\",\"symbol\":\"circle\"},\"mode\":\"markers\",\"name\":\"PA\",\"showlegend\":true,\"type\":\"scattergeo\"},{\"customdata\":[[-8.38,-37.86]],\"geo\":\"geo\",\"hovertemplate\":\"<b>%{hovertext}</b><br><br>SG_UF_NCM=PE<br>lat=%{customdata[0]}<br>lon=%{customdata[1]}<extra></extra>\",\"hovertext\":[\"PE\"],\"lat\":[-8.38],\"legendgroup\":\"PE\",\"lon\":[-37.86],\"marker\":{\"color\":\"rgb(76,114,176)\",\"symbol\":\"circle\"},\"mode\":\"markers\",\"name\":\"PE\",\"showlegend\":true,\"type\":\"scattergeo\"},{\"customdata\":[[-24.89,-51.55]],\"geo\":\"geo\",\"hovertemplate\":\"<b>%{hovertext}</b><br><br>SG_UF_NCM=PR<br>lat=%{customdata[0]}<br>lon=%{customdata[1]}<extra></extra>\",\"hovertext\":[\"PR\"],\"lat\":[-24.89],\"legendgroup\":\"PR\",\"lon\":[-51.55],\"marker\":{\"color\":\"rgb(221,132,82)\",\"symbol\":\"circle\"},\"mode\":\"markers\",\"name\":\"PR\",\"showlegend\":true,\"type\":\"scattergeo\"},{\"customdata\":[[-22.25,-42.66]],\"geo\":\"geo\",\"hovertemplate\":\"<b>%{hovertext}</b><br><br>SG_UF_NCM=RJ<br>lat=%{customdata[0]}<br>lon=%{customdata[1]}<extra></extra>\",\"hovertext\":[\"RJ\"],\"lat\":[-22.25],\"legendgroup\":\"RJ\",\"lon\":[-42.66],\"marker\":{\"color\":\"rgb(85,168,104)\",\"symbol\":\"circle\"},\"mode\":\"markers\",\"name\":\"RJ\",\"showlegend\":true,\"type\":\"scattergeo\"},{\"customdata\":[[-30.17,-53.5]],\"geo\":\"geo\",\"hovertemplate\":\"<b>%{hovertext}</b><br><br>SG_UF_NCM=RS<br>lat=%{customdata[0]}<br>lon=%{customdata[1]}<extra></extra>\",\"hovertext\":[\"RS\"],\"lat\":[-30.17],\"legendgroup\":\"RS\",\"lon\":[-53.5],\"marker\":{\"color\":\"rgb(196,78,82)\",\"symbol\":\"circle\"},\"mode\":\"markers\",\"name\":\"RS\",\"showlegend\":true,\"type\":\"scattergeo\"},{\"customdata\":[[-27.45,-50.95]],\"geo\":\"geo\",\"hovertemplate\":\"<b>%{hovertext}</b><br><br>SG_UF_NCM=SC<br>lat=%{customdata[0]}<br>lon=%{customdata[1]}<extra></extra>\",\"hovertext\":[\"SC\"],\"lat\":[-27.45],\"legendgroup\":\"SC\",\"lon\":[-50.95],\"marker\":{\"color\":\"rgb(129,114,179)\",\"symbol\":\"circle\"},\"mode\":\"markers\",\"name\":\"SC\",\"showlegend\":true,\"type\":\"scattergeo\"},{\"customdata\":[[-22.19,-48.79]],\"geo\":\"geo\",\"hovertemplate\":\"<b>%{hovertext}</b><br><br>SG_UF_NCM=SP<br>lat=%{customdata[0]}<br>lon=%{customdata[1]}<extra></extra>\",\"hovertext\":[\"SP\"],\"lat\":[-22.19],\"legendgroup\":\"SP\",\"lon\":[-48.79],\"marker\":{\"color\":\"rgb(147,120,96)\",\"symbol\":\"circle\"},\"mode\":\"markers\",\"name\":\"SP\",\"showlegend\":true,\"type\":\"scattergeo\"}],                        {\"template\":{\"data\":{\"barpolar\":[{\"marker\":{\"line\":{\"color\":\"rgb(234,234,242)\",\"width\":0.5},\"pattern\":{\"fillmode\":\"overlay\",\"size\":10,\"solidity\":0.2}},\"type\":\"barpolar\"}],\"bar\":[{\"error_x\":{\"color\":\"rgb(36,36,36)\"},\"error_y\":{\"color\":\"rgb(36,36,36)\"},\"marker\":{\"line\":{\"color\":\"rgb(234,234,242)\",\"width\":0.5},\"pattern\":{\"fillmode\":\"overlay\",\"size\":10,\"solidity\":0.2}},\"type\":\"bar\"}],\"carpet\":[{\"aaxis\":{\"endlinecolor\":\"rgb(36,36,36)\",\"gridcolor\":\"white\",\"linecolor\":\"white\",\"minorgridcolor\":\"white\",\"startlinecolor\":\"rgb(36,36,36)\"},\"baxis\":{\"endlinecolor\":\"rgb(36,36,36)\",\"gridcolor\":\"white\",\"linecolor\":\"white\",\"minorgridcolor\":\"white\",\"startlinecolor\":\"rgb(36,36,36)\"},\"type\":\"carpet\"}],\"choropleth\":[{\"colorbar\":{\"outlinewidth\":0,\"tickcolor\":\"rgb(36,36,36)\",\"ticklen\":8,\"ticks\":\"outside\",\"tickwidth\":2},\"type\":\"choropleth\"}],\"contourcarpet\":[{\"colorbar\":{\"outlinewidth\":0,\"tickcolor\":\"rgb(36,36,36)\",\"ticklen\":8,\"ticks\":\"outside\",\"tickwidth\":2},\"type\":\"contourcarpet\"}],\"contour\":[{\"colorbar\":{\"outlinewidth\":0,\"tickcolor\":\"rgb(36,36,36)\",\"ticklen\":8,\"ticks\":\"outside\",\"tickwidth\":2},\"colorscale\":[[0.0,\"rgb(2,4,25)\"],[0.06274509803921569,\"rgb(24,15,41)\"],[0.12549019607843137,\"rgb(47,23,57)\"],[0.18823529411764706,\"rgb(71,28,72)\"],[0.25098039215686274,\"rgb(97,30,82)\"],[0.3137254901960784,\"rgb(123,30,89)\"],[0.3764705882352941,\"rgb(150,27,91)\"],[0.4392156862745098,\"rgb(177,22,88)\"],[0.5019607843137255,\"rgb(203,26,79)\"],[0.5647058823529412,\"rgb(223,47,67)\"],[0.6274509803921569,\"rgb(236,76,61)\"],[0.6901960784313725,\"rgb(242,107,73)\"],[0.7529411764705882,\"rgb(244,135,95)\"],[0.8156862745098039,\"rgb(245,162,122)\"],[0.8784313725490196,\"rgb(246,188,153)\"],[0.9411764705882353,\"rgb(247,212,187)\"],[1.0,\"rgb(250,234,220)\"]],\"type\":\"contour\"}],\"heatmapgl\":[{\"colorbar\":{\"outlinewidth\":0,\"tickcolor\":\"rgb(36,36,36)\",\"ticklen\":8,\"ticks\":\"outside\",\"tickwidth\":2},\"colorscale\":[[0.0,\"rgb(2,4,25)\"],[0.06274509803921569,\"rgb(24,15,41)\"],[0.12549019607843137,\"rgb(47,23,57)\"],[0.18823529411764706,\"rgb(71,28,72)\"],[0.25098039215686274,\"rgb(97,30,82)\"],[0.3137254901960784,\"rgb(123,30,89)\"],[0.3764705882352941,\"rgb(150,27,91)\"],[0.4392156862745098,\"rgb(177,22,88)\"],[0.5019607843137255,\"rgb(203,26,79)\"],[0.5647058823529412,\"rgb(223,47,67)\"],[0.6274509803921569,\"rgb(236,76,61)\"],[0.6901960784313725,\"rgb(242,107,73)\"],[0.7529411764705882,\"rgb(244,135,95)\"],[0.8156862745098039,\"rgb(245,162,122)\"],[0.8784313725490196,\"rgb(246,188,153)\"],[0.9411764705882353,\"rgb(247,212,187)\"],[1.0,\"rgb(250,234,220)\"]],\"type\":\"heatmapgl\"}],\"heatmap\":[{\"colorbar\":{\"outlinewidth\":0,\"tickcolor\":\"rgb(36,36,36)\",\"ticklen\":8,\"ticks\":\"outside\",\"tickwidth\":2},\"colorscale\":[[0.0,\"rgb(2,4,25)\"],[0.06274509803921569,\"rgb(24,15,41)\"],[0.12549019607843137,\"rgb(47,23,57)\"],[0.18823529411764706,\"rgb(71,28,72)\"],[0.25098039215686274,\"rgb(97,30,82)\"],[0.3137254901960784,\"rgb(123,30,89)\"],[0.3764705882352941,\"rgb(150,27,91)\"],[0.4392156862745098,\"rgb(177,22,88)\"],[0.5019607843137255,\"rgb(203,26,79)\"],[0.5647058823529412,\"rgb(223,47,67)\"],[0.6274509803921569,\"rgb(236,76,61)\"],[0.6901960784313725,\"rgb(242,107,73)\"],[0.7529411764705882,\"rgb(244,135,95)\"],[0.8156862745098039,\"rgb(245,162,122)\"],[0.8784313725490196,\"rgb(246,188,153)\"],[0.9411764705882353,\"rgb(247,212,187)\"],[1.0,\"rgb(250,234,220)\"]],\"type\":\"heatmap\"}],\"histogram2dcontour\":[{\"colorbar\":{\"outlinewidth\":0,\"tickcolor\":\"rgb(36,36,36)\",\"ticklen\":8,\"ticks\":\"outside\",\"tickwidth\":2},\"colorscale\":[[0.0,\"rgb(2,4,25)\"],[0.06274509803921569,\"rgb(24,15,41)\"],[0.12549019607843137,\"rgb(47,23,57)\"],[0.18823529411764706,\"rgb(71,28,72)\"],[0.25098039215686274,\"rgb(97,30,82)\"],[0.3137254901960784,\"rgb(123,30,89)\"],[0.3764705882352941,\"rgb(150,27,91)\"],[0.4392156862745098,\"rgb(177,22,88)\"],[0.5019607843137255,\"rgb(203,26,79)\"],[0.5647058823529412,\"rgb(223,47,67)\"],[0.6274509803921569,\"rgb(236,76,61)\"],[0.6901960784313725,\"rgb(242,107,73)\"],[0.7529411764705882,\"rgb(244,135,95)\"],[0.8156862745098039,\"rgb(245,162,122)\"],[0.8784313725490196,\"rgb(246,188,153)\"],[0.9411764705882353,\"rgb(247,212,187)\"],[1.0,\"rgb(250,234,220)\"]],\"type\":\"histogram2dcontour\"}],\"histogram2d\":[{\"colorbar\":{\"outlinewidth\":0,\"tickcolor\":\"rgb(36,36,36)\",\"ticklen\":8,\"ticks\":\"outside\",\"tickwidth\":2},\"colorscale\":[[0.0,\"rgb(2,4,25)\"],[0.06274509803921569,\"rgb(24,15,41)\"],[0.12549019607843137,\"rgb(47,23,57)\"],[0.18823529411764706,\"rgb(71,28,72)\"],[0.25098039215686274,\"rgb(97,30,82)\"],[0.3137254901960784,\"rgb(123,30,89)\"],[0.3764705882352941,\"rgb(150,27,91)\"],[0.4392156862745098,\"rgb(177,22,88)\"],[0.5019607843137255,\"rgb(203,26,79)\"],[0.5647058823529412,\"rgb(223,47,67)\"],[0.6274509803921569,\"rgb(236,76,61)\"],[0.6901960784313725,\"rgb(242,107,73)\"],[0.7529411764705882,\"rgb(244,135,95)\"],[0.8156862745098039,\"rgb(245,162,122)\"],[0.8784313725490196,\"rgb(246,188,153)\"],[0.9411764705882353,\"rgb(247,212,187)\"],[1.0,\"rgb(250,234,220)\"]],\"type\":\"histogram2d\"}],\"histogram\":[{\"marker\":{\"pattern\":{\"fillmode\":\"overlay\",\"size\":10,\"solidity\":0.2}},\"type\":\"histogram\"}],\"mesh3d\":[{\"colorbar\":{\"outlinewidth\":0,\"tickcolor\":\"rgb(36,36,36)\",\"ticklen\":8,\"ticks\":\"outside\",\"tickwidth\":2},\"type\":\"mesh3d\"}],\"parcoords\":[{\"line\":{\"colorbar\":{\"outlinewidth\":0,\"tickcolor\":\"rgb(36,36,36)\",\"ticklen\":8,\"ticks\":\"outside\",\"tickwidth\":2}},\"type\":\"parcoords\"}],\"pie\":[{\"automargin\":true,\"type\":\"pie\"}],\"scatter3d\":[{\"line\":{\"colorbar\":{\"outlinewidth\":0,\"tickcolor\":\"rgb(36,36,36)\",\"ticklen\":8,\"ticks\":\"outside\",\"tickwidth\":2}},\"marker\":{\"colorbar\":{\"outlinewidth\":0,\"tickcolor\":\"rgb(36,36,36)\",\"ticklen\":8,\"ticks\":\"outside\",\"tickwidth\":2}},\"type\":\"scatter3d\"}],\"scattercarpet\":[{\"marker\":{\"colorbar\":{\"outlinewidth\":0,\"tickcolor\":\"rgb(36,36,36)\",\"ticklen\":8,\"ticks\":\"outside\",\"tickwidth\":2}},\"type\":\"scattercarpet\"}],\"scattergeo\":[{\"marker\":{\"colorbar\":{\"outlinewidth\":0,\"tickcolor\":\"rgb(36,36,36)\",\"ticklen\":8,\"ticks\":\"outside\",\"tickwidth\":2}},\"type\":\"scattergeo\"}],\"scattergl\":[{\"marker\":{\"colorbar\":{\"outlinewidth\":0,\"tickcolor\":\"rgb(36,36,36)\",\"ticklen\":8,\"ticks\":\"outside\",\"tickwidth\":2}},\"type\":\"scattergl\"}],\"scattermapbox\":[{\"marker\":{\"colorbar\":{\"outlinewidth\":0,\"tickcolor\":\"rgb(36,36,36)\",\"ticklen\":8,\"ticks\":\"outside\",\"tickwidth\":2}},\"type\":\"scattermapbox\"}],\"scatterpolargl\":[{\"marker\":{\"colorbar\":{\"outlinewidth\":0,\"tickcolor\":\"rgb(36,36,36)\",\"ticklen\":8,\"ticks\":\"outside\",\"tickwidth\":2}},\"type\":\"scatterpolargl\"}],\"scatterpolar\":[{\"marker\":{\"colorbar\":{\"outlinewidth\":0,\"tickcolor\":\"rgb(36,36,36)\",\"ticklen\":8,\"ticks\":\"outside\",\"tickwidth\":2}},\"type\":\"scatterpolar\"}],\"scatter\":[{\"fillpattern\":{\"fillmode\":\"overlay\",\"size\":10,\"solidity\":0.2},\"type\":\"scatter\"}],\"scatterternary\":[{\"marker\":{\"colorbar\":{\"outlinewidth\":0,\"tickcolor\":\"rgb(36,36,36)\",\"ticklen\":8,\"ticks\":\"outside\",\"tickwidth\":2}},\"type\":\"scatterternary\"}],\"surface\":[{\"colorbar\":{\"outlinewidth\":0,\"tickcolor\":\"rgb(36,36,36)\",\"ticklen\":8,\"ticks\":\"outside\",\"tickwidth\":2},\"colorscale\":[[0.0,\"rgb(2,4,25)\"],[0.06274509803921569,\"rgb(24,15,41)\"],[0.12549019607843137,\"rgb(47,23,57)\"],[0.18823529411764706,\"rgb(71,28,72)\"],[0.25098039215686274,\"rgb(97,30,82)\"],[0.3137254901960784,\"rgb(123,30,89)\"],[0.3764705882352941,\"rgb(150,27,91)\"],[0.4392156862745098,\"rgb(177,22,88)\"],[0.5019607843137255,\"rgb(203,26,79)\"],[0.5647058823529412,\"rgb(223,47,67)\"],[0.6274509803921569,\"rgb(236,76,61)\"],[0.6901960784313725,\"rgb(242,107,73)\"],[0.7529411764705882,\"rgb(244,135,95)\"],[0.8156862745098039,\"rgb(245,162,122)\"],[0.8784313725490196,\"rgb(246,188,153)\"],[0.9411764705882353,\"rgb(247,212,187)\"],[1.0,\"rgb(250,234,220)\"]],\"type\":\"surface\"}],\"table\":[{\"cells\":{\"fill\":{\"color\":\"rgb(231,231,240)\"},\"line\":{\"color\":\"white\"}},\"header\":{\"fill\":{\"color\":\"rgb(183,183,191)\"},\"line\":{\"color\":\"white\"}},\"type\":\"table\"}]},\"layout\":{\"annotationdefaults\":{\"arrowcolor\":\"rgb(67,103,167)\"},\"autotypenumbers\":\"strict\",\"coloraxis\":{\"colorbar\":{\"outlinewidth\":0,\"tickcolor\":\"rgb(36,36,36)\",\"ticklen\":8,\"ticks\":\"outside\",\"tickwidth\":2}},\"colorscale\":{\"sequential\":[[0.0,\"rgb(2,4,25)\"],[0.06274509803921569,\"rgb(24,15,41)\"],[0.12549019607843137,\"rgb(47,23,57)\"],[0.18823529411764706,\"rgb(71,28,72)\"],[0.25098039215686274,\"rgb(97,30,82)\"],[0.3137254901960784,\"rgb(123,30,89)\"],[0.3764705882352941,\"rgb(150,27,91)\"],[0.4392156862745098,\"rgb(177,22,88)\"],[0.5019607843137255,\"rgb(203,26,79)\"],[0.5647058823529412,\"rgb(223,47,67)\"],[0.6274509803921569,\"rgb(236,76,61)\"],[0.6901960784313725,\"rgb(242,107,73)\"],[0.7529411764705882,\"rgb(244,135,95)\"],[0.8156862745098039,\"rgb(245,162,122)\"],[0.8784313725490196,\"rgb(246,188,153)\"],[0.9411764705882353,\"rgb(247,212,187)\"],[1.0,\"rgb(250,234,220)\"]],\"sequentialminus\":[[0.0,\"rgb(2,4,25)\"],[0.06274509803921569,\"rgb(24,15,41)\"],[0.12549019607843137,\"rgb(47,23,57)\"],[0.18823529411764706,\"rgb(71,28,72)\"],[0.25098039215686274,\"rgb(97,30,82)\"],[0.3137254901960784,\"rgb(123,30,89)\"],[0.3764705882352941,\"rgb(150,27,91)\"],[0.4392156862745098,\"rgb(177,22,88)\"],[0.5019607843137255,\"rgb(203,26,79)\"],[0.5647058823529412,\"rgb(223,47,67)\"],[0.6274509803921569,\"rgb(236,76,61)\"],[0.6901960784313725,\"rgb(242,107,73)\"],[0.7529411764705882,\"rgb(244,135,95)\"],[0.8156862745098039,\"rgb(245,162,122)\"],[0.8784313725490196,\"rgb(246,188,153)\"],[0.9411764705882353,\"rgb(247,212,187)\"],[1.0,\"rgb(250,234,220)\"]]},\"colorway\":[\"rgb(76,114,176)\",\"rgb(221,132,82)\",\"rgb(85,168,104)\",\"rgb(196,78,82)\",\"rgb(129,114,179)\",\"rgb(147,120,96)\",\"rgb(218,139,195)\",\"rgb(140,140,140)\",\"rgb(204,185,116)\",\"rgb(100,181,205)\"],\"font\":{\"color\":\"rgb(36,36,36)\"},\"geo\":{\"bgcolor\":\"white\",\"lakecolor\":\"white\",\"landcolor\":\"rgb(234,234,242)\",\"showlakes\":true,\"showland\":true,\"subunitcolor\":\"white\"},\"hoverlabel\":{\"align\":\"left\"},\"hovermode\":\"closest\",\"paper_bgcolor\":\"white\",\"plot_bgcolor\":\"rgb(234,234,242)\",\"polar\":{\"angularaxis\":{\"gridcolor\":\"white\",\"linecolor\":\"white\",\"showgrid\":true,\"ticks\":\"\"},\"bgcolor\":\"rgb(234,234,242)\",\"radialaxis\":{\"gridcolor\":\"white\",\"linecolor\":\"white\",\"showgrid\":true,\"ticks\":\"\"}},\"scene\":{\"xaxis\":{\"backgroundcolor\":\"rgb(234,234,242)\",\"gridcolor\":\"white\",\"gridwidth\":2,\"linecolor\":\"white\",\"showbackground\":true,\"showgrid\":true,\"ticks\":\"\",\"zerolinecolor\":\"white\"},\"yaxis\":{\"backgroundcolor\":\"rgb(234,234,242)\",\"gridcolor\":\"white\",\"gridwidth\":2,\"linecolor\":\"white\",\"showbackground\":true,\"showgrid\":true,\"ticks\":\"\",\"zerolinecolor\":\"white\"},\"zaxis\":{\"backgroundcolor\":\"rgb(234,234,242)\",\"gridcolor\":\"white\",\"gridwidth\":2,\"linecolor\":\"white\",\"showbackground\":true,\"showgrid\":true,\"ticks\":\"\",\"zerolinecolor\":\"white\"}},\"shapedefaults\":{\"fillcolor\":\"rgb(67,103,167)\",\"line\":{\"width\":0},\"opacity\":0.5},\"ternary\":{\"aaxis\":{\"gridcolor\":\"white\",\"linecolor\":\"white\",\"showgrid\":true,\"ticks\":\"\"},\"baxis\":{\"gridcolor\":\"white\",\"linecolor\":\"white\",\"showgrid\":true,\"ticks\":\"\"},\"bgcolor\":\"rgb(234,234,242)\",\"caxis\":{\"gridcolor\":\"white\",\"linecolor\":\"white\",\"showgrid\":true,\"ticks\":\"\"}},\"xaxis\":{\"automargin\":true,\"gridcolor\":\"white\",\"linecolor\":\"white\",\"showgrid\":true,\"ticks\":\"\",\"title\":{\"standoff\":15},\"zerolinecolor\":\"white\"},\"yaxis\":{\"automargin\":true,\"gridcolor\":\"white\",\"linecolor\":\"white\",\"showgrid\":true,\"ticks\":\"\",\"title\":{\"standoff\":15},\"zerolinecolor\":\"white\"}}},\"geo\":{\"domain\":{\"x\":[0.0,1.0],\"y\":[0.0,1.0]},\"center\":{},\"scope\":\"south america\"},\"legend\":{\"title\":{\"text\":\"SG_UF_NCM\"},\"tracegroupgap\":0},\"title\":{\"text\":\"Estados Exportadores\"}},                        {\"responsive\": true}                    ).then(function(){\n",
       "                            \n",
       "var gd = document.getElementById('2be73386-b1d5-45de-9024-1719d995bb2f');\n",
       "var x = new MutationObserver(function (mutations, observer) {{\n",
       "        var display = window.getComputedStyle(gd).display;\n",
       "        if (!display || display === 'none') {{\n",
       "            console.log([gd, 'removed!']);\n",
       "            Plotly.purge(gd);\n",
       "            observer.disconnect();\n",
       "        }}\n",
       "}});\n",
       "\n",
       "// Listen for the removal of the full notebook cells\n",
       "var notebookContainer = gd.closest('#notebook-container');\n",
       "if (notebookContainer) {{\n",
       "    x.observe(notebookContainer, {childList: true});\n",
       "}}\n",
       "\n",
       "// Listen for the clearing of the current output cell\n",
       "var outputEl = gd.closest('.output');\n",
       "if (outputEl) {{\n",
       "    x.observe(outputEl, {childList: true});\n",
       "}}\n",
       "\n",
       "                        })                };                });            </script>        </div>"
      ]
     },
     "metadata": {},
     "output_type": "display_data"
    },
    {
     "data": {
      "application/vnd.plotly.v1+json": {
       "config": {
        "plotlyServerURL": "https://plot.ly"
       },
       "data": [
        {
         "customdata": [
          [
           -9.62,
           -36.82
          ]
         ],
         "geo": "geo",
         "hovertemplate": "<b>%{hovertext}</b><br><br>SG_UF_NCM=AL<br>KG_LIQUIDO=%{marker.size}<br>lat=%{customdata[0]}<br>lon=%{customdata[1]}<extra></extra>",
         "hovertext": [
          "AL"
         ],
         "lat": [
          -9.62
         ],
         "legendgroup": "AL",
         "lon": [
          -36.82
         ],
         "marker": {
          "color": "rgb(76,114,176)",
          "size": [
           824
          ],
          "sizemode": "area",
          "sizeref": 9897.6,
          "symbol": "circle"
         },
         "mode": "markers",
         "name": "AL",
         "showlegend": true,
         "type": "scattergeo"
        },
        {
         "customdata": [
          [
           -3.47,
           -65.1
          ]
         ],
         "geo": "geo",
         "hovertemplate": "<b>%{hovertext}</b><br><br>SG_UF_NCM=AM<br>KG_LIQUIDO=%{marker.size}<br>lat=%{customdata[0]}<br>lon=%{customdata[1]}<extra></extra>",
         "hovertext": [
          "AM"
         ],
         "lat": [
          -3.47
         ],
         "legendgroup": "AM",
         "lon": [
          -65.1
         ],
         "marker": {
          "color": "rgb(221,132,82)",
          "size": [
           330
          ],
          "sizemode": "area",
          "sizeref": 9897.6,
          "symbol": "circle"
         },
         "mode": "markers",
         "name": "AM",
         "showlegend": true,
         "type": "scattergeo"
        },
        {
         "customdata": [
          [
           1.41,
           -51.77
          ]
         ],
         "geo": "geo",
         "hovertemplate": "<b>%{hovertext}</b><br><br>SG_UF_NCM=AP<br>KG_LIQUIDO=%{marker.size}<br>lat=%{customdata[0]}<br>lon=%{customdata[1]}<extra></extra>",
         "hovertext": [
          "AP"
         ],
         "lat": [
          1.41
         ],
         "legendgroup": "AP",
         "lon": [
          -51.77
         ],
         "marker": {
          "color": "rgb(85,168,104)",
          "size": [
           67
          ],
          "sizemode": "area",
          "sizeref": 9897.6,
          "symbol": "circle"
         },
         "mode": "markers",
         "name": "AP",
         "showlegend": true,
         "type": "scattergeo"
        },
        {
         "customdata": [
          [
           -13.29,
           -41.71
          ]
         ],
         "geo": "geo",
         "hovertemplate": "<b>%{hovertext}</b><br><br>SG_UF_NCM=BA<br>KG_LIQUIDO=%{marker.size}<br>lat=%{customdata[0]}<br>lon=%{customdata[1]}<extra></extra>",
         "hovertext": [
          "BA"
         ],
         "lat": [
          -13.29
         ],
         "legendgroup": "BA",
         "lon": [
          -41.71
         ],
         "marker": {
          "color": "rgb(196,78,82)",
          "size": [
           3017
          ],
          "sizemode": "area",
          "sizeref": 9897.6,
          "symbol": "circle"
         },
         "mode": "markers",
         "name": "BA",
         "showlegend": true,
         "type": "scattergeo"
        },
        {
         "customdata": [
          [
           -5.2,
           -39.53
          ]
         ],
         "geo": "geo",
         "hovertemplate": "<b>%{hovertext}</b><br><br>SG_UF_NCM=CE<br>KG_LIQUIDO=%{marker.size}<br>lat=%{customdata[0]}<br>lon=%{customdata[1]}<extra></extra>",
         "hovertext": [
          "CE"
         ],
         "lat": [
          -5.2
         ],
         "legendgroup": "CE",
         "lon": [
          -39.53
         ],
         "marker": {
          "color": "rgb(129,114,179)",
          "size": [
           184
          ],
          "sizemode": "area",
          "sizeref": 9897.6,
          "symbol": "circle"
         },
         "mode": "markers",
         "name": "CE",
         "showlegend": true,
         "type": "scattergeo"
        },
        {
         "customdata": [
          [
           -19.19,
           -40.34
          ]
         ],
         "geo": "geo",
         "hovertemplate": "<b>%{hovertext}</b><br><br>SG_UF_NCM=ES<br>KG_LIQUIDO=%{marker.size}<br>lat=%{customdata[0]}<br>lon=%{customdata[1]}<extra></extra>",
         "hovertext": [
          "ES"
         ],
         "lat": [
          -19.19
         ],
         "legendgroup": "ES",
         "lon": [
          -40.34
         ],
         "marker": {
          "color": "rgb(147,120,96)",
          "size": [
           9267
          ],
          "sizemode": "area",
          "sizeref": 9897.6,
          "symbol": "circle"
         },
         "mode": "markers",
         "name": "ES",
         "showlegend": true,
         "type": "scattergeo"
        },
        {
         "customdata": [
          [
           -15.98,
           -49.86
          ]
         ],
         "geo": "geo",
         "hovertemplate": "<b>%{hovertext}</b><br><br>SG_UF_NCM=GO<br>KG_LIQUIDO=%{marker.size}<br>lat=%{customdata[0]}<br>lon=%{customdata[1]}<extra></extra>",
         "hovertext": [
          "GO"
         ],
         "lat": [
          -15.98
         ],
         "legendgroup": "GO",
         "lon": [
          -49.86
         ],
         "marker": {
          "color": "rgb(218,139,195)",
          "size": [
           16
          ],
          "sizemode": "area",
          "sizeref": 9897.6,
          "symbol": "circle"
         },
         "mode": "markers",
         "name": "GO",
         "showlegend": true,
         "type": "scattergeo"
        },
        {
         "customdata": [
          [
           -5.42,
           -45.44
          ]
         ],
         "geo": "geo",
         "hovertemplate": "<b>%{hovertext}</b><br><br>SG_UF_NCM=MA<br>KG_LIQUIDO=%{marker.size}<br>lat=%{customdata[0]}<br>lon=%{customdata[1]}<extra></extra>",
         "hovertext": [
          "MA"
         ],
         "lat": [
          -5.42
         ],
         "legendgroup": "MA",
         "lon": [
          -45.44
         ],
         "marker": {
          "color": "rgb(140,140,140)",
          "size": [
           7868
          ],
          "sizemode": "area",
          "sizeref": 9897.6,
          "symbol": "circle"
         },
         "mode": "markers",
         "name": "MA",
         "showlegend": true,
         "type": "scattergeo"
        },
        {
         "customdata": [
          [
           -18.1,
           -44.38
          ]
         ],
         "geo": "geo",
         "hovertemplate": "<b>%{hovertext}</b><br><br>SG_UF_NCM=MG<br>KG_LIQUIDO=%{marker.size}<br>lat=%{customdata[0]}<br>lon=%{customdata[1]}<extra></extra>",
         "hovertext": [
          "MG"
         ],
         "lat": [
          -18.1
         ],
         "legendgroup": "MG",
         "lon": [
          -44.38
         ],
         "marker": {
          "color": "rgb(204,185,116)",
          "size": [
           360
          ],
          "sizemode": "area",
          "sizeref": 9897.6,
          "symbol": "circle"
         },
         "mode": "markers",
         "name": "MG",
         "showlegend": true,
         "type": "scattergeo"
        },
        {
         "customdata": [
          [
           -3.79,
           -52.48
          ]
         ],
         "geo": "geo",
         "hovertemplate": "<b>%{hovertext}</b><br><br>SG_UF_NCM=PA<br>KG_LIQUIDO=%{marker.size}<br>lat=%{customdata[0]}<br>lon=%{customdata[1]}<extra></extra>",
         "hovertext": [
          "PA"
         ],
         "lat": [
          -3.79
         ],
         "legendgroup": "PA",
         "lon": [
          -52.48
         ],
         "marker": {
          "color": "rgb(100,181,205)",
          "size": [
           1537
          ],
          "sizemode": "area",
          "sizeref": 9897.6,
          "symbol": "circle"
         },
         "mode": "markers",
         "name": "PA",
         "showlegend": true,
         "type": "scattergeo"
        },
        {
         "customdata": [
          [
           -8.38,
           -37.86
          ]
         ],
         "geo": "geo",
         "hovertemplate": "<b>%{hovertext}</b><br><br>SG_UF_NCM=PE<br>KG_LIQUIDO=%{marker.size}<br>lat=%{customdata[0]}<br>lon=%{customdata[1]}<extra></extra>",
         "hovertext": [
          "PE"
         ],
         "lat": [
          -8.38
         ],
         "legendgroup": "PE",
         "lon": [
          -37.86
         ],
         "marker": {
          "color": "rgb(76,114,176)",
          "size": [
           72745
          ],
          "sizemode": "area",
          "sizeref": 9897.6,
          "symbol": "circle"
         },
         "mode": "markers",
         "name": "PE",
         "showlegend": true,
         "type": "scattergeo"
        },
        {
         "customdata": [
          [
           -24.89,
           -51.55
          ]
         ],
         "geo": "geo",
         "hovertemplate": "<b>%{hovertext}</b><br><br>SG_UF_NCM=PR<br>KG_LIQUIDO=%{marker.size}<br>lat=%{customdata[0]}<br>lon=%{customdata[1]}<extra></extra>",
         "hovertext": [
          "PR"
         ],
         "lat": [
          -24.89
         ],
         "legendgroup": "PR",
         "lon": [
          -51.55
         ],
         "marker": {
          "color": "rgb(221,132,82)",
          "size": [
           112238
          ],
          "sizemode": "area",
          "sizeref": 9897.6,
          "symbol": "circle"
         },
         "mode": "markers",
         "name": "PR",
         "showlegend": true,
         "type": "scattergeo"
        },
        {
         "customdata": [
          [
           -22.25,
           -42.66
          ]
         ],
         "geo": "geo",
         "hovertemplate": "<b>%{hovertext}</b><br><br>SG_UF_NCM=RJ<br>KG_LIQUIDO=%{marker.size}<br>lat=%{customdata[0]}<br>lon=%{customdata[1]}<extra></extra>",
         "hovertext": [
          "RJ"
         ],
         "lat": [
          -22.25
         ],
         "legendgroup": "RJ",
         "lon": [
          -42.66
         ],
         "marker": {
          "color": "rgb(85,168,104)",
          "size": [
           38281
          ],
          "sizemode": "area",
          "sizeref": 9897.6,
          "symbol": "circle"
         },
         "mode": "markers",
         "name": "RJ",
         "showlegend": true,
         "type": "scattergeo"
        },
        {
         "customdata": [
          [
           -30.17,
           -53.5
          ]
         ],
         "geo": "geo",
         "hovertemplate": "<b>%{hovertext}</b><br><br>SG_UF_NCM=RS<br>KG_LIQUIDO=%{marker.size}<br>lat=%{customdata[0]}<br>lon=%{customdata[1]}<extra></extra>",
         "hovertext": [
          "RS"
         ],
         "lat": [
          -30.17
         ],
         "legendgroup": "RS",
         "lon": [
          -53.5
         ],
         "marker": {
          "color": "rgb(196,78,82)",
          "size": [
           3959040
          ],
          "sizemode": "area",
          "sizeref": 9897.6,
          "symbol": "circle"
         },
         "mode": "markers",
         "name": "RS",
         "showlegend": true,
         "type": "scattergeo"
        },
        {
         "customdata": [
          [
           -27.45,
           -50.95
          ]
         ],
         "geo": "geo",
         "hovertemplate": "<b>%{hovertext}</b><br><br>SG_UF_NCM=SC<br>KG_LIQUIDO=%{marker.size}<br>lat=%{customdata[0]}<br>lon=%{customdata[1]}<extra></extra>",
         "hovertext": [
          "SC"
         ],
         "lat": [
          -27.45
         ],
         "legendgroup": "SC",
         "lon": [
          -50.95
         ],
         "marker": {
          "color": "rgb(129,114,179)",
          "size": [
           38406
          ],
          "sizemode": "area",
          "sizeref": 9897.6,
          "symbol": "circle"
         },
         "mode": "markers",
         "name": "SC",
         "showlegend": true,
         "type": "scattergeo"
        },
        {
         "customdata": [
          [
           -22.19,
           -48.79
          ]
         ],
         "geo": "geo",
         "hovertemplate": "<b>%{hovertext}</b><br><br>SG_UF_NCM=SP<br>KG_LIQUIDO=%{marker.size}<br>lat=%{customdata[0]}<br>lon=%{customdata[1]}<extra></extra>",
         "hovertext": [
          "SP"
         ],
         "lat": [
          -22.19
         ],
         "legendgroup": "SP",
         "lon": [
          -48.79
         ],
         "marker": {
          "color": "rgb(147,120,96)",
          "size": [
           414092
          ],
          "sizemode": "area",
          "sizeref": 9897.6,
          "symbol": "circle"
         },
         "mode": "markers",
         "name": "SP",
         "showlegend": true,
         "type": "scattergeo"
        }
       ],
       "layout": {
        "geo": {
         "center": {},
         "domain": {
          "x": [
           0,
           1
          ],
          "y": [
           0,
           1
          ]
         },
         "scope": "south america"
        },
        "legend": {
         "itemsizing": "constant",
         "title": {
          "text": "SG_UF_NCM"
         },
         "tracegroupgap": 0
        },
        "template": {
         "data": {
          "bar": [
           {
            "error_x": {
             "color": "rgb(36,36,36)"
            },
            "error_y": {
             "color": "rgb(36,36,36)"
            },
            "marker": {
             "line": {
              "color": "rgb(234,234,242)",
              "width": 0.5
             },
             "pattern": {
              "fillmode": "overlay",
              "size": 10,
              "solidity": 0.2
             }
            },
            "type": "bar"
           }
          ],
          "barpolar": [
           {
            "marker": {
             "line": {
              "color": "rgb(234,234,242)",
              "width": 0.5
             },
             "pattern": {
              "fillmode": "overlay",
              "size": 10,
              "solidity": 0.2
             }
            },
            "type": "barpolar"
           }
          ],
          "carpet": [
           {
            "aaxis": {
             "endlinecolor": "rgb(36,36,36)",
             "gridcolor": "white",
             "linecolor": "white",
             "minorgridcolor": "white",
             "startlinecolor": "rgb(36,36,36)"
            },
            "baxis": {
             "endlinecolor": "rgb(36,36,36)",
             "gridcolor": "white",
             "linecolor": "white",
             "minorgridcolor": "white",
             "startlinecolor": "rgb(36,36,36)"
            },
            "type": "carpet"
           }
          ],
          "choropleth": [
           {
            "colorbar": {
             "outlinewidth": 0,
             "tickcolor": "rgb(36,36,36)",
             "ticklen": 8,
             "ticks": "outside",
             "tickwidth": 2
            },
            "type": "choropleth"
           }
          ],
          "contour": [
           {
            "colorbar": {
             "outlinewidth": 0,
             "tickcolor": "rgb(36,36,36)",
             "ticklen": 8,
             "ticks": "outside",
             "tickwidth": 2
            },
            "colorscale": [
             [
              0,
              "rgb(2,4,25)"
             ],
             [
              0.06274509803921569,
              "rgb(24,15,41)"
             ],
             [
              0.12549019607843137,
              "rgb(47,23,57)"
             ],
             [
              0.18823529411764706,
              "rgb(71,28,72)"
             ],
             [
              0.25098039215686274,
              "rgb(97,30,82)"
             ],
             [
              0.3137254901960784,
              "rgb(123,30,89)"
             ],
             [
              0.3764705882352941,
              "rgb(150,27,91)"
             ],
             [
              0.4392156862745098,
              "rgb(177,22,88)"
             ],
             [
              0.5019607843137255,
              "rgb(203,26,79)"
             ],
             [
              0.5647058823529412,
              "rgb(223,47,67)"
             ],
             [
              0.6274509803921569,
              "rgb(236,76,61)"
             ],
             [
              0.6901960784313725,
              "rgb(242,107,73)"
             ],
             [
              0.7529411764705882,
              "rgb(244,135,95)"
             ],
             [
              0.8156862745098039,
              "rgb(245,162,122)"
             ],
             [
              0.8784313725490196,
              "rgb(246,188,153)"
             ],
             [
              0.9411764705882353,
              "rgb(247,212,187)"
             ],
             [
              1,
              "rgb(250,234,220)"
             ]
            ],
            "type": "contour"
           }
          ],
          "contourcarpet": [
           {
            "colorbar": {
             "outlinewidth": 0,
             "tickcolor": "rgb(36,36,36)",
             "ticklen": 8,
             "ticks": "outside",
             "tickwidth": 2
            },
            "type": "contourcarpet"
           }
          ],
          "heatmap": [
           {
            "colorbar": {
             "outlinewidth": 0,
             "tickcolor": "rgb(36,36,36)",
             "ticklen": 8,
             "ticks": "outside",
             "tickwidth": 2
            },
            "colorscale": [
             [
              0,
              "rgb(2,4,25)"
             ],
             [
              0.06274509803921569,
              "rgb(24,15,41)"
             ],
             [
              0.12549019607843137,
              "rgb(47,23,57)"
             ],
             [
              0.18823529411764706,
              "rgb(71,28,72)"
             ],
             [
              0.25098039215686274,
              "rgb(97,30,82)"
             ],
             [
              0.3137254901960784,
              "rgb(123,30,89)"
             ],
             [
              0.3764705882352941,
              "rgb(150,27,91)"
             ],
             [
              0.4392156862745098,
              "rgb(177,22,88)"
             ],
             [
              0.5019607843137255,
              "rgb(203,26,79)"
             ],
             [
              0.5647058823529412,
              "rgb(223,47,67)"
             ],
             [
              0.6274509803921569,
              "rgb(236,76,61)"
             ],
             [
              0.6901960784313725,
              "rgb(242,107,73)"
             ],
             [
              0.7529411764705882,
              "rgb(244,135,95)"
             ],
             [
              0.8156862745098039,
              "rgb(245,162,122)"
             ],
             [
              0.8784313725490196,
              "rgb(246,188,153)"
             ],
             [
              0.9411764705882353,
              "rgb(247,212,187)"
             ],
             [
              1,
              "rgb(250,234,220)"
             ]
            ],
            "type": "heatmap"
           }
          ],
          "heatmapgl": [
           {
            "colorbar": {
             "outlinewidth": 0,
             "tickcolor": "rgb(36,36,36)",
             "ticklen": 8,
             "ticks": "outside",
             "tickwidth": 2
            },
            "colorscale": [
             [
              0,
              "rgb(2,4,25)"
             ],
             [
              0.06274509803921569,
              "rgb(24,15,41)"
             ],
             [
              0.12549019607843137,
              "rgb(47,23,57)"
             ],
             [
              0.18823529411764706,
              "rgb(71,28,72)"
             ],
             [
              0.25098039215686274,
              "rgb(97,30,82)"
             ],
             [
              0.3137254901960784,
              "rgb(123,30,89)"
             ],
             [
              0.3764705882352941,
              "rgb(150,27,91)"
             ],
             [
              0.4392156862745098,
              "rgb(177,22,88)"
             ],
             [
              0.5019607843137255,
              "rgb(203,26,79)"
             ],
             [
              0.5647058823529412,
              "rgb(223,47,67)"
             ],
             [
              0.6274509803921569,
              "rgb(236,76,61)"
             ],
             [
              0.6901960784313725,
              "rgb(242,107,73)"
             ],
             [
              0.7529411764705882,
              "rgb(244,135,95)"
             ],
             [
              0.8156862745098039,
              "rgb(245,162,122)"
             ],
             [
              0.8784313725490196,
              "rgb(246,188,153)"
             ],
             [
              0.9411764705882353,
              "rgb(247,212,187)"
             ],
             [
              1,
              "rgb(250,234,220)"
             ]
            ],
            "type": "heatmapgl"
           }
          ],
          "histogram": [
           {
            "marker": {
             "pattern": {
              "fillmode": "overlay",
              "size": 10,
              "solidity": 0.2
             }
            },
            "type": "histogram"
           }
          ],
          "histogram2d": [
           {
            "colorbar": {
             "outlinewidth": 0,
             "tickcolor": "rgb(36,36,36)",
             "ticklen": 8,
             "ticks": "outside",
             "tickwidth": 2
            },
            "colorscale": [
             [
              0,
              "rgb(2,4,25)"
             ],
             [
              0.06274509803921569,
              "rgb(24,15,41)"
             ],
             [
              0.12549019607843137,
              "rgb(47,23,57)"
             ],
             [
              0.18823529411764706,
              "rgb(71,28,72)"
             ],
             [
              0.25098039215686274,
              "rgb(97,30,82)"
             ],
             [
              0.3137254901960784,
              "rgb(123,30,89)"
             ],
             [
              0.3764705882352941,
              "rgb(150,27,91)"
             ],
             [
              0.4392156862745098,
              "rgb(177,22,88)"
             ],
             [
              0.5019607843137255,
              "rgb(203,26,79)"
             ],
             [
              0.5647058823529412,
              "rgb(223,47,67)"
             ],
             [
              0.6274509803921569,
              "rgb(236,76,61)"
             ],
             [
              0.6901960784313725,
              "rgb(242,107,73)"
             ],
             [
              0.7529411764705882,
              "rgb(244,135,95)"
             ],
             [
              0.8156862745098039,
              "rgb(245,162,122)"
             ],
             [
              0.8784313725490196,
              "rgb(246,188,153)"
             ],
             [
              0.9411764705882353,
              "rgb(247,212,187)"
             ],
             [
              1,
              "rgb(250,234,220)"
             ]
            ],
            "type": "histogram2d"
           }
          ],
          "histogram2dcontour": [
           {
            "colorbar": {
             "outlinewidth": 0,
             "tickcolor": "rgb(36,36,36)",
             "ticklen": 8,
             "ticks": "outside",
             "tickwidth": 2
            },
            "colorscale": [
             [
              0,
              "rgb(2,4,25)"
             ],
             [
              0.06274509803921569,
              "rgb(24,15,41)"
             ],
             [
              0.12549019607843137,
              "rgb(47,23,57)"
             ],
             [
              0.18823529411764706,
              "rgb(71,28,72)"
             ],
             [
              0.25098039215686274,
              "rgb(97,30,82)"
             ],
             [
              0.3137254901960784,
              "rgb(123,30,89)"
             ],
             [
              0.3764705882352941,
              "rgb(150,27,91)"
             ],
             [
              0.4392156862745098,
              "rgb(177,22,88)"
             ],
             [
              0.5019607843137255,
              "rgb(203,26,79)"
             ],
             [
              0.5647058823529412,
              "rgb(223,47,67)"
             ],
             [
              0.6274509803921569,
              "rgb(236,76,61)"
             ],
             [
              0.6901960784313725,
              "rgb(242,107,73)"
             ],
             [
              0.7529411764705882,
              "rgb(244,135,95)"
             ],
             [
              0.8156862745098039,
              "rgb(245,162,122)"
             ],
             [
              0.8784313725490196,
              "rgb(246,188,153)"
             ],
             [
              0.9411764705882353,
              "rgb(247,212,187)"
             ],
             [
              1,
              "rgb(250,234,220)"
             ]
            ],
            "type": "histogram2dcontour"
           }
          ],
          "mesh3d": [
           {
            "colorbar": {
             "outlinewidth": 0,
             "tickcolor": "rgb(36,36,36)",
             "ticklen": 8,
             "ticks": "outside",
             "tickwidth": 2
            },
            "type": "mesh3d"
           }
          ],
          "parcoords": [
           {
            "line": {
             "colorbar": {
              "outlinewidth": 0,
              "tickcolor": "rgb(36,36,36)",
              "ticklen": 8,
              "ticks": "outside",
              "tickwidth": 2
             }
            },
            "type": "parcoords"
           }
          ],
          "pie": [
           {
            "automargin": true,
            "type": "pie"
           }
          ],
          "scatter": [
           {
            "fillpattern": {
             "fillmode": "overlay",
             "size": 10,
             "solidity": 0.2
            },
            "type": "scatter"
           }
          ],
          "scatter3d": [
           {
            "line": {
             "colorbar": {
              "outlinewidth": 0,
              "tickcolor": "rgb(36,36,36)",
              "ticklen": 8,
              "ticks": "outside",
              "tickwidth": 2
             }
            },
            "marker": {
             "colorbar": {
              "outlinewidth": 0,
              "tickcolor": "rgb(36,36,36)",
              "ticklen": 8,
              "ticks": "outside",
              "tickwidth": 2
             }
            },
            "type": "scatter3d"
           }
          ],
          "scattercarpet": [
           {
            "marker": {
             "colorbar": {
              "outlinewidth": 0,
              "tickcolor": "rgb(36,36,36)",
              "ticklen": 8,
              "ticks": "outside",
              "tickwidth": 2
             }
            },
            "type": "scattercarpet"
           }
          ],
          "scattergeo": [
           {
            "marker": {
             "colorbar": {
              "outlinewidth": 0,
              "tickcolor": "rgb(36,36,36)",
              "ticklen": 8,
              "ticks": "outside",
              "tickwidth": 2
             }
            },
            "type": "scattergeo"
           }
          ],
          "scattergl": [
           {
            "marker": {
             "colorbar": {
              "outlinewidth": 0,
              "tickcolor": "rgb(36,36,36)",
              "ticklen": 8,
              "ticks": "outside",
              "tickwidth": 2
             }
            },
            "type": "scattergl"
           }
          ],
          "scattermapbox": [
           {
            "marker": {
             "colorbar": {
              "outlinewidth": 0,
              "tickcolor": "rgb(36,36,36)",
              "ticklen": 8,
              "ticks": "outside",
              "tickwidth": 2
             }
            },
            "type": "scattermapbox"
           }
          ],
          "scatterpolar": [
           {
            "marker": {
             "colorbar": {
              "outlinewidth": 0,
              "tickcolor": "rgb(36,36,36)",
              "ticklen": 8,
              "ticks": "outside",
              "tickwidth": 2
             }
            },
            "type": "scatterpolar"
           }
          ],
          "scatterpolargl": [
           {
            "marker": {
             "colorbar": {
              "outlinewidth": 0,
              "tickcolor": "rgb(36,36,36)",
              "ticklen": 8,
              "ticks": "outside",
              "tickwidth": 2
             }
            },
            "type": "scatterpolargl"
           }
          ],
          "scatterternary": [
           {
            "marker": {
             "colorbar": {
              "outlinewidth": 0,
              "tickcolor": "rgb(36,36,36)",
              "ticklen": 8,
              "ticks": "outside",
              "tickwidth": 2
             }
            },
            "type": "scatterternary"
           }
          ],
          "surface": [
           {
            "colorbar": {
             "outlinewidth": 0,
             "tickcolor": "rgb(36,36,36)",
             "ticklen": 8,
             "ticks": "outside",
             "tickwidth": 2
            },
            "colorscale": [
             [
              0,
              "rgb(2,4,25)"
             ],
             [
              0.06274509803921569,
              "rgb(24,15,41)"
             ],
             [
              0.12549019607843137,
              "rgb(47,23,57)"
             ],
             [
              0.18823529411764706,
              "rgb(71,28,72)"
             ],
             [
              0.25098039215686274,
              "rgb(97,30,82)"
             ],
             [
              0.3137254901960784,
              "rgb(123,30,89)"
             ],
             [
              0.3764705882352941,
              "rgb(150,27,91)"
             ],
             [
              0.4392156862745098,
              "rgb(177,22,88)"
             ],
             [
              0.5019607843137255,
              "rgb(203,26,79)"
             ],
             [
              0.5647058823529412,
              "rgb(223,47,67)"
             ],
             [
              0.6274509803921569,
              "rgb(236,76,61)"
             ],
             [
              0.6901960784313725,
              "rgb(242,107,73)"
             ],
             [
              0.7529411764705882,
              "rgb(244,135,95)"
             ],
             [
              0.8156862745098039,
              "rgb(245,162,122)"
             ],
             [
              0.8784313725490196,
              "rgb(246,188,153)"
             ],
             [
              0.9411764705882353,
              "rgb(247,212,187)"
             ],
             [
              1,
              "rgb(250,234,220)"
             ]
            ],
            "type": "surface"
           }
          ],
          "table": [
           {
            "cells": {
             "fill": {
              "color": "rgb(231,231,240)"
             },
             "line": {
              "color": "white"
             }
            },
            "header": {
             "fill": {
              "color": "rgb(183,183,191)"
             },
             "line": {
              "color": "white"
             }
            },
            "type": "table"
           }
          ]
         },
         "layout": {
          "annotationdefaults": {
           "arrowcolor": "rgb(67,103,167)"
          },
          "autotypenumbers": "strict",
          "coloraxis": {
           "colorbar": {
            "outlinewidth": 0,
            "tickcolor": "rgb(36,36,36)",
            "ticklen": 8,
            "ticks": "outside",
            "tickwidth": 2
           }
          },
          "colorscale": {
           "sequential": [
            [
             0,
             "rgb(2,4,25)"
            ],
            [
             0.06274509803921569,
             "rgb(24,15,41)"
            ],
            [
             0.12549019607843137,
             "rgb(47,23,57)"
            ],
            [
             0.18823529411764706,
             "rgb(71,28,72)"
            ],
            [
             0.25098039215686274,
             "rgb(97,30,82)"
            ],
            [
             0.3137254901960784,
             "rgb(123,30,89)"
            ],
            [
             0.3764705882352941,
             "rgb(150,27,91)"
            ],
            [
             0.4392156862745098,
             "rgb(177,22,88)"
            ],
            [
             0.5019607843137255,
             "rgb(203,26,79)"
            ],
            [
             0.5647058823529412,
             "rgb(223,47,67)"
            ],
            [
             0.6274509803921569,
             "rgb(236,76,61)"
            ],
            [
             0.6901960784313725,
             "rgb(242,107,73)"
            ],
            [
             0.7529411764705882,
             "rgb(244,135,95)"
            ],
            [
             0.8156862745098039,
             "rgb(245,162,122)"
            ],
            [
             0.8784313725490196,
             "rgb(246,188,153)"
            ],
            [
             0.9411764705882353,
             "rgb(247,212,187)"
            ],
            [
             1,
             "rgb(250,234,220)"
            ]
           ],
           "sequentialminus": [
            [
             0,
             "rgb(2,4,25)"
            ],
            [
             0.06274509803921569,
             "rgb(24,15,41)"
            ],
            [
             0.12549019607843137,
             "rgb(47,23,57)"
            ],
            [
             0.18823529411764706,
             "rgb(71,28,72)"
            ],
            [
             0.25098039215686274,
             "rgb(97,30,82)"
            ],
            [
             0.3137254901960784,
             "rgb(123,30,89)"
            ],
            [
             0.3764705882352941,
             "rgb(150,27,91)"
            ],
            [
             0.4392156862745098,
             "rgb(177,22,88)"
            ],
            [
             0.5019607843137255,
             "rgb(203,26,79)"
            ],
            [
             0.5647058823529412,
             "rgb(223,47,67)"
            ],
            [
             0.6274509803921569,
             "rgb(236,76,61)"
            ],
            [
             0.6901960784313725,
             "rgb(242,107,73)"
            ],
            [
             0.7529411764705882,
             "rgb(244,135,95)"
            ],
            [
             0.8156862745098039,
             "rgb(245,162,122)"
            ],
            [
             0.8784313725490196,
             "rgb(246,188,153)"
            ],
            [
             0.9411764705882353,
             "rgb(247,212,187)"
            ],
            [
             1,
             "rgb(250,234,220)"
            ]
           ]
          },
          "colorway": [
           "rgb(76,114,176)",
           "rgb(221,132,82)",
           "rgb(85,168,104)",
           "rgb(196,78,82)",
           "rgb(129,114,179)",
           "rgb(147,120,96)",
           "rgb(218,139,195)",
           "rgb(140,140,140)",
           "rgb(204,185,116)",
           "rgb(100,181,205)"
          ],
          "font": {
           "color": "rgb(36,36,36)"
          },
          "geo": {
           "bgcolor": "white",
           "lakecolor": "white",
           "landcolor": "rgb(234,234,242)",
           "showlakes": true,
           "showland": true,
           "subunitcolor": "white"
          },
          "hoverlabel": {
           "align": "left"
          },
          "hovermode": "closest",
          "paper_bgcolor": "white",
          "plot_bgcolor": "rgb(234,234,242)",
          "polar": {
           "angularaxis": {
            "gridcolor": "white",
            "linecolor": "white",
            "showgrid": true,
            "ticks": ""
           },
           "bgcolor": "rgb(234,234,242)",
           "radialaxis": {
            "gridcolor": "white",
            "linecolor": "white",
            "showgrid": true,
            "ticks": ""
           }
          },
          "scene": {
           "xaxis": {
            "backgroundcolor": "rgb(234,234,242)",
            "gridcolor": "white",
            "gridwidth": 2,
            "linecolor": "white",
            "showbackground": true,
            "showgrid": true,
            "ticks": "",
            "zerolinecolor": "white"
           },
           "yaxis": {
            "backgroundcolor": "rgb(234,234,242)",
            "gridcolor": "white",
            "gridwidth": 2,
            "linecolor": "white",
            "showbackground": true,
            "showgrid": true,
            "ticks": "",
            "zerolinecolor": "white"
           },
           "zaxis": {
            "backgroundcolor": "rgb(234,234,242)",
            "gridcolor": "white",
            "gridwidth": 2,
            "linecolor": "white",
            "showbackground": true,
            "showgrid": true,
            "ticks": "",
            "zerolinecolor": "white"
           }
          },
          "shapedefaults": {
           "fillcolor": "rgb(67,103,167)",
           "line": {
            "width": 0
           },
           "opacity": 0.5
          },
          "ternary": {
           "aaxis": {
            "gridcolor": "white",
            "linecolor": "white",
            "showgrid": true,
            "ticks": ""
           },
           "baxis": {
            "gridcolor": "white",
            "linecolor": "white",
            "showgrid": true,
            "ticks": ""
           },
           "bgcolor": "rgb(234,234,242)",
           "caxis": {
            "gridcolor": "white",
            "linecolor": "white",
            "showgrid": true,
            "ticks": ""
           }
          },
          "xaxis": {
           "automargin": true,
           "gridcolor": "white",
           "linecolor": "white",
           "showgrid": true,
           "ticks": "",
           "title": {
            "standoff": 15
           },
           "zerolinecolor": "white"
          },
          "yaxis": {
           "automargin": true,
           "gridcolor": "white",
           "linecolor": "white",
           "showgrid": true,
           "ticks": "",
           "title": {
            "standoff": 15
           },
           "zerolinecolor": "white"
          }
         }
        },
        "title": {
         "text": "Quantidade de Exportação - KG LIQUIDO"
        }
       }
      },
      "text/html": [
       "<div>                            <div id=\"bb8dcdbf-6c21-4d6f-bfdf-bac888fd5b8f\" class=\"plotly-graph-div\" style=\"height:525px; width:100%;\"></div>            <script type=\"text/javascript\">                require([\"plotly\"], function(Plotly) {                    window.PLOTLYENV=window.PLOTLYENV || {};                                    if (document.getElementById(\"bb8dcdbf-6c21-4d6f-bfdf-bac888fd5b8f\")) {                    Plotly.newPlot(                        \"bb8dcdbf-6c21-4d6f-bfdf-bac888fd5b8f\",                        [{\"customdata\":[[-9.62,-36.82]],\"geo\":\"geo\",\"hovertemplate\":\"<b>%{hovertext}</b><br><br>SG_UF_NCM=AL<br>KG_LIQUIDO=%{marker.size}<br>lat=%{customdata[0]}<br>lon=%{customdata[1]}<extra></extra>\",\"hovertext\":[\"AL\"],\"lat\":[-9.62],\"legendgroup\":\"AL\",\"lon\":[-36.82],\"marker\":{\"color\":\"rgb(76,114,176)\",\"size\":[824],\"sizemode\":\"area\",\"sizeref\":9897.6,\"symbol\":\"circle\"},\"mode\":\"markers\",\"name\":\"AL\",\"showlegend\":true,\"type\":\"scattergeo\"},{\"customdata\":[[-3.47,-65.1]],\"geo\":\"geo\",\"hovertemplate\":\"<b>%{hovertext}</b><br><br>SG_UF_NCM=AM<br>KG_LIQUIDO=%{marker.size}<br>lat=%{customdata[0]}<br>lon=%{customdata[1]}<extra></extra>\",\"hovertext\":[\"AM\"],\"lat\":[-3.47],\"legendgroup\":\"AM\",\"lon\":[-65.1],\"marker\":{\"color\":\"rgb(221,132,82)\",\"size\":[330],\"sizemode\":\"area\",\"sizeref\":9897.6,\"symbol\":\"circle\"},\"mode\":\"markers\",\"name\":\"AM\",\"showlegend\":true,\"type\":\"scattergeo\"},{\"customdata\":[[1.41,-51.77]],\"geo\":\"geo\",\"hovertemplate\":\"<b>%{hovertext}</b><br><br>SG_UF_NCM=AP<br>KG_LIQUIDO=%{marker.size}<br>lat=%{customdata[0]}<br>lon=%{customdata[1]}<extra></extra>\",\"hovertext\":[\"AP\"],\"lat\":[1.41],\"legendgroup\":\"AP\",\"lon\":[-51.77],\"marker\":{\"color\":\"rgb(85,168,104)\",\"size\":[67],\"sizemode\":\"area\",\"sizeref\":9897.6,\"symbol\":\"circle\"},\"mode\":\"markers\",\"name\":\"AP\",\"showlegend\":true,\"type\":\"scattergeo\"},{\"customdata\":[[-13.29,-41.71]],\"geo\":\"geo\",\"hovertemplate\":\"<b>%{hovertext}</b><br><br>SG_UF_NCM=BA<br>KG_LIQUIDO=%{marker.size}<br>lat=%{customdata[0]}<br>lon=%{customdata[1]}<extra></extra>\",\"hovertext\":[\"BA\"],\"lat\":[-13.29],\"legendgroup\":\"BA\",\"lon\":[-41.71],\"marker\":{\"color\":\"rgb(196,78,82)\",\"size\":[3017],\"sizemode\":\"area\",\"sizeref\":9897.6,\"symbol\":\"circle\"},\"mode\":\"markers\",\"name\":\"BA\",\"showlegend\":true,\"type\":\"scattergeo\"},{\"customdata\":[[-5.2,-39.53]],\"geo\":\"geo\",\"hovertemplate\":\"<b>%{hovertext}</b><br><br>SG_UF_NCM=CE<br>KG_LIQUIDO=%{marker.size}<br>lat=%{customdata[0]}<br>lon=%{customdata[1]}<extra></extra>\",\"hovertext\":[\"CE\"],\"lat\":[-5.2],\"legendgroup\":\"CE\",\"lon\":[-39.53],\"marker\":{\"color\":\"rgb(129,114,179)\",\"size\":[184],\"sizemode\":\"area\",\"sizeref\":9897.6,\"symbol\":\"circle\"},\"mode\":\"markers\",\"name\":\"CE\",\"showlegend\":true,\"type\":\"scattergeo\"},{\"customdata\":[[-19.19,-40.34]],\"geo\":\"geo\",\"hovertemplate\":\"<b>%{hovertext}</b><br><br>SG_UF_NCM=ES<br>KG_LIQUIDO=%{marker.size}<br>lat=%{customdata[0]}<br>lon=%{customdata[1]}<extra></extra>\",\"hovertext\":[\"ES\"],\"lat\":[-19.19],\"legendgroup\":\"ES\",\"lon\":[-40.34],\"marker\":{\"color\":\"rgb(147,120,96)\",\"size\":[9267],\"sizemode\":\"area\",\"sizeref\":9897.6,\"symbol\":\"circle\"},\"mode\":\"markers\",\"name\":\"ES\",\"showlegend\":true,\"type\":\"scattergeo\"},{\"customdata\":[[-15.98,-49.86]],\"geo\":\"geo\",\"hovertemplate\":\"<b>%{hovertext}</b><br><br>SG_UF_NCM=GO<br>KG_LIQUIDO=%{marker.size}<br>lat=%{customdata[0]}<br>lon=%{customdata[1]}<extra></extra>\",\"hovertext\":[\"GO\"],\"lat\":[-15.98],\"legendgroup\":\"GO\",\"lon\":[-49.86],\"marker\":{\"color\":\"rgb(218,139,195)\",\"size\":[16],\"sizemode\":\"area\",\"sizeref\":9897.6,\"symbol\":\"circle\"},\"mode\":\"markers\",\"name\":\"GO\",\"showlegend\":true,\"type\":\"scattergeo\"},{\"customdata\":[[-5.42,-45.44]],\"geo\":\"geo\",\"hovertemplate\":\"<b>%{hovertext}</b><br><br>SG_UF_NCM=MA<br>KG_LIQUIDO=%{marker.size}<br>lat=%{customdata[0]}<br>lon=%{customdata[1]}<extra></extra>\",\"hovertext\":[\"MA\"],\"lat\":[-5.42],\"legendgroup\":\"MA\",\"lon\":[-45.44],\"marker\":{\"color\":\"rgb(140,140,140)\",\"size\":[7868],\"sizemode\":\"area\",\"sizeref\":9897.6,\"symbol\":\"circle\"},\"mode\":\"markers\",\"name\":\"MA\",\"showlegend\":true,\"type\":\"scattergeo\"},{\"customdata\":[[-18.1,-44.38]],\"geo\":\"geo\",\"hovertemplate\":\"<b>%{hovertext}</b><br><br>SG_UF_NCM=MG<br>KG_LIQUIDO=%{marker.size}<br>lat=%{customdata[0]}<br>lon=%{customdata[1]}<extra></extra>\",\"hovertext\":[\"MG\"],\"lat\":[-18.1],\"legendgroup\":\"MG\",\"lon\":[-44.38],\"marker\":{\"color\":\"rgb(204,185,116)\",\"size\":[360],\"sizemode\":\"area\",\"sizeref\":9897.6,\"symbol\":\"circle\"},\"mode\":\"markers\",\"name\":\"MG\",\"showlegend\":true,\"type\":\"scattergeo\"},{\"customdata\":[[-3.79,-52.48]],\"geo\":\"geo\",\"hovertemplate\":\"<b>%{hovertext}</b><br><br>SG_UF_NCM=PA<br>KG_LIQUIDO=%{marker.size}<br>lat=%{customdata[0]}<br>lon=%{customdata[1]}<extra></extra>\",\"hovertext\":[\"PA\"],\"lat\":[-3.79],\"legendgroup\":\"PA\",\"lon\":[-52.48],\"marker\":{\"color\":\"rgb(100,181,205)\",\"size\":[1537],\"sizemode\":\"area\",\"sizeref\":9897.6,\"symbol\":\"circle\"},\"mode\":\"markers\",\"name\":\"PA\",\"showlegend\":true,\"type\":\"scattergeo\"},{\"customdata\":[[-8.38,-37.86]],\"geo\":\"geo\",\"hovertemplate\":\"<b>%{hovertext}</b><br><br>SG_UF_NCM=PE<br>KG_LIQUIDO=%{marker.size}<br>lat=%{customdata[0]}<br>lon=%{customdata[1]}<extra></extra>\",\"hovertext\":[\"PE\"],\"lat\":[-8.38],\"legendgroup\":\"PE\",\"lon\":[-37.86],\"marker\":{\"color\":\"rgb(76,114,176)\",\"size\":[72745],\"sizemode\":\"area\",\"sizeref\":9897.6,\"symbol\":\"circle\"},\"mode\":\"markers\",\"name\":\"PE\",\"showlegend\":true,\"type\":\"scattergeo\"},{\"customdata\":[[-24.89,-51.55]],\"geo\":\"geo\",\"hovertemplate\":\"<b>%{hovertext}</b><br><br>SG_UF_NCM=PR<br>KG_LIQUIDO=%{marker.size}<br>lat=%{customdata[0]}<br>lon=%{customdata[1]}<extra></extra>\",\"hovertext\":[\"PR\"],\"lat\":[-24.89],\"legendgroup\":\"PR\",\"lon\":[-51.55],\"marker\":{\"color\":\"rgb(221,132,82)\",\"size\":[112238],\"sizemode\":\"area\",\"sizeref\":9897.6,\"symbol\":\"circle\"},\"mode\":\"markers\",\"name\":\"PR\",\"showlegend\":true,\"type\":\"scattergeo\"},{\"customdata\":[[-22.25,-42.66]],\"geo\":\"geo\",\"hovertemplate\":\"<b>%{hovertext}</b><br><br>SG_UF_NCM=RJ<br>KG_LIQUIDO=%{marker.size}<br>lat=%{customdata[0]}<br>lon=%{customdata[1]}<extra></extra>\",\"hovertext\":[\"RJ\"],\"lat\":[-22.25],\"legendgroup\":\"RJ\",\"lon\":[-42.66],\"marker\":{\"color\":\"rgb(85,168,104)\",\"size\":[38281],\"sizemode\":\"area\",\"sizeref\":9897.6,\"symbol\":\"circle\"},\"mode\":\"markers\",\"name\":\"RJ\",\"showlegend\":true,\"type\":\"scattergeo\"},{\"customdata\":[[-30.17,-53.5]],\"geo\":\"geo\",\"hovertemplate\":\"<b>%{hovertext}</b><br><br>SG_UF_NCM=RS<br>KG_LIQUIDO=%{marker.size}<br>lat=%{customdata[0]}<br>lon=%{customdata[1]}<extra></extra>\",\"hovertext\":[\"RS\"],\"lat\":[-30.17],\"legendgroup\":\"RS\",\"lon\":[-53.5],\"marker\":{\"color\":\"rgb(196,78,82)\",\"size\":[3959040],\"sizemode\":\"area\",\"sizeref\":9897.6,\"symbol\":\"circle\"},\"mode\":\"markers\",\"name\":\"RS\",\"showlegend\":true,\"type\":\"scattergeo\"},{\"customdata\":[[-27.45,-50.95]],\"geo\":\"geo\",\"hovertemplate\":\"<b>%{hovertext}</b><br><br>SG_UF_NCM=SC<br>KG_LIQUIDO=%{marker.size}<br>lat=%{customdata[0]}<br>lon=%{customdata[1]}<extra></extra>\",\"hovertext\":[\"SC\"],\"lat\":[-27.45],\"legendgroup\":\"SC\",\"lon\":[-50.95],\"marker\":{\"color\":\"rgb(129,114,179)\",\"size\":[38406],\"sizemode\":\"area\",\"sizeref\":9897.6,\"symbol\":\"circle\"},\"mode\":\"markers\",\"name\":\"SC\",\"showlegend\":true,\"type\":\"scattergeo\"},{\"customdata\":[[-22.19,-48.79]],\"geo\":\"geo\",\"hovertemplate\":\"<b>%{hovertext}</b><br><br>SG_UF_NCM=SP<br>KG_LIQUIDO=%{marker.size}<br>lat=%{customdata[0]}<br>lon=%{customdata[1]}<extra></extra>\",\"hovertext\":[\"SP\"],\"lat\":[-22.19],\"legendgroup\":\"SP\",\"lon\":[-48.79],\"marker\":{\"color\":\"rgb(147,120,96)\",\"size\":[414092],\"sizemode\":\"area\",\"sizeref\":9897.6,\"symbol\":\"circle\"},\"mode\":\"markers\",\"name\":\"SP\",\"showlegend\":true,\"type\":\"scattergeo\"}],                        {\"template\":{\"data\":{\"barpolar\":[{\"marker\":{\"line\":{\"color\":\"rgb(234,234,242)\",\"width\":0.5},\"pattern\":{\"fillmode\":\"overlay\",\"size\":10,\"solidity\":0.2}},\"type\":\"barpolar\"}],\"bar\":[{\"error_x\":{\"color\":\"rgb(36,36,36)\"},\"error_y\":{\"color\":\"rgb(36,36,36)\"},\"marker\":{\"line\":{\"color\":\"rgb(234,234,242)\",\"width\":0.5},\"pattern\":{\"fillmode\":\"overlay\",\"size\":10,\"solidity\":0.2}},\"type\":\"bar\"}],\"carpet\":[{\"aaxis\":{\"endlinecolor\":\"rgb(36,36,36)\",\"gridcolor\":\"white\",\"linecolor\":\"white\",\"minorgridcolor\":\"white\",\"startlinecolor\":\"rgb(36,36,36)\"},\"baxis\":{\"endlinecolor\":\"rgb(36,36,36)\",\"gridcolor\":\"white\",\"linecolor\":\"white\",\"minorgridcolor\":\"white\",\"startlinecolor\":\"rgb(36,36,36)\"},\"type\":\"carpet\"}],\"choropleth\":[{\"colorbar\":{\"outlinewidth\":0,\"tickcolor\":\"rgb(36,36,36)\",\"ticklen\":8,\"ticks\":\"outside\",\"tickwidth\":2},\"type\":\"choropleth\"}],\"contourcarpet\":[{\"colorbar\":{\"outlinewidth\":0,\"tickcolor\":\"rgb(36,36,36)\",\"ticklen\":8,\"ticks\":\"outside\",\"tickwidth\":2},\"type\":\"contourcarpet\"}],\"contour\":[{\"colorbar\":{\"outlinewidth\":0,\"tickcolor\":\"rgb(36,36,36)\",\"ticklen\":8,\"ticks\":\"outside\",\"tickwidth\":2},\"colorscale\":[[0.0,\"rgb(2,4,25)\"],[0.06274509803921569,\"rgb(24,15,41)\"],[0.12549019607843137,\"rgb(47,23,57)\"],[0.18823529411764706,\"rgb(71,28,72)\"],[0.25098039215686274,\"rgb(97,30,82)\"],[0.3137254901960784,\"rgb(123,30,89)\"],[0.3764705882352941,\"rgb(150,27,91)\"],[0.4392156862745098,\"rgb(177,22,88)\"],[0.5019607843137255,\"rgb(203,26,79)\"],[0.5647058823529412,\"rgb(223,47,67)\"],[0.6274509803921569,\"rgb(236,76,61)\"],[0.6901960784313725,\"rgb(242,107,73)\"],[0.7529411764705882,\"rgb(244,135,95)\"],[0.8156862745098039,\"rgb(245,162,122)\"],[0.8784313725490196,\"rgb(246,188,153)\"],[0.9411764705882353,\"rgb(247,212,187)\"],[1.0,\"rgb(250,234,220)\"]],\"type\":\"contour\"}],\"heatmapgl\":[{\"colorbar\":{\"outlinewidth\":0,\"tickcolor\":\"rgb(36,36,36)\",\"ticklen\":8,\"ticks\":\"outside\",\"tickwidth\":2},\"colorscale\":[[0.0,\"rgb(2,4,25)\"],[0.06274509803921569,\"rgb(24,15,41)\"],[0.12549019607843137,\"rgb(47,23,57)\"],[0.18823529411764706,\"rgb(71,28,72)\"],[0.25098039215686274,\"rgb(97,30,82)\"],[0.3137254901960784,\"rgb(123,30,89)\"],[0.3764705882352941,\"rgb(150,27,91)\"],[0.4392156862745098,\"rgb(177,22,88)\"],[0.5019607843137255,\"rgb(203,26,79)\"],[0.5647058823529412,\"rgb(223,47,67)\"],[0.6274509803921569,\"rgb(236,76,61)\"],[0.6901960784313725,\"rgb(242,107,73)\"],[0.7529411764705882,\"rgb(244,135,95)\"],[0.8156862745098039,\"rgb(245,162,122)\"],[0.8784313725490196,\"rgb(246,188,153)\"],[0.9411764705882353,\"rgb(247,212,187)\"],[1.0,\"rgb(250,234,220)\"]],\"type\":\"heatmapgl\"}],\"heatmap\":[{\"colorbar\":{\"outlinewidth\":0,\"tickcolor\":\"rgb(36,36,36)\",\"ticklen\":8,\"ticks\":\"outside\",\"tickwidth\":2},\"colorscale\":[[0.0,\"rgb(2,4,25)\"],[0.06274509803921569,\"rgb(24,15,41)\"],[0.12549019607843137,\"rgb(47,23,57)\"],[0.18823529411764706,\"rgb(71,28,72)\"],[0.25098039215686274,\"rgb(97,30,82)\"],[0.3137254901960784,\"rgb(123,30,89)\"],[0.3764705882352941,\"rgb(150,27,91)\"],[0.4392156862745098,\"rgb(177,22,88)\"],[0.5019607843137255,\"rgb(203,26,79)\"],[0.5647058823529412,\"rgb(223,47,67)\"],[0.6274509803921569,\"rgb(236,76,61)\"],[0.6901960784313725,\"rgb(242,107,73)\"],[0.7529411764705882,\"rgb(244,135,95)\"],[0.8156862745098039,\"rgb(245,162,122)\"],[0.8784313725490196,\"rgb(246,188,153)\"],[0.9411764705882353,\"rgb(247,212,187)\"],[1.0,\"rgb(250,234,220)\"]],\"type\":\"heatmap\"}],\"histogram2dcontour\":[{\"colorbar\":{\"outlinewidth\":0,\"tickcolor\":\"rgb(36,36,36)\",\"ticklen\":8,\"ticks\":\"outside\",\"tickwidth\":2},\"colorscale\":[[0.0,\"rgb(2,4,25)\"],[0.06274509803921569,\"rgb(24,15,41)\"],[0.12549019607843137,\"rgb(47,23,57)\"],[0.18823529411764706,\"rgb(71,28,72)\"],[0.25098039215686274,\"rgb(97,30,82)\"],[0.3137254901960784,\"rgb(123,30,89)\"],[0.3764705882352941,\"rgb(150,27,91)\"],[0.4392156862745098,\"rgb(177,22,88)\"],[0.5019607843137255,\"rgb(203,26,79)\"],[0.5647058823529412,\"rgb(223,47,67)\"],[0.6274509803921569,\"rgb(236,76,61)\"],[0.6901960784313725,\"rgb(242,107,73)\"],[0.7529411764705882,\"rgb(244,135,95)\"],[0.8156862745098039,\"rgb(245,162,122)\"],[0.8784313725490196,\"rgb(246,188,153)\"],[0.9411764705882353,\"rgb(247,212,187)\"],[1.0,\"rgb(250,234,220)\"]],\"type\":\"histogram2dcontour\"}],\"histogram2d\":[{\"colorbar\":{\"outlinewidth\":0,\"tickcolor\":\"rgb(36,36,36)\",\"ticklen\":8,\"ticks\":\"outside\",\"tickwidth\":2},\"colorscale\":[[0.0,\"rgb(2,4,25)\"],[0.06274509803921569,\"rgb(24,15,41)\"],[0.12549019607843137,\"rgb(47,23,57)\"],[0.18823529411764706,\"rgb(71,28,72)\"],[0.25098039215686274,\"rgb(97,30,82)\"],[0.3137254901960784,\"rgb(123,30,89)\"],[0.3764705882352941,\"rgb(150,27,91)\"],[0.4392156862745098,\"rgb(177,22,88)\"],[0.5019607843137255,\"rgb(203,26,79)\"],[0.5647058823529412,\"rgb(223,47,67)\"],[0.6274509803921569,\"rgb(236,76,61)\"],[0.6901960784313725,\"rgb(242,107,73)\"],[0.7529411764705882,\"rgb(244,135,95)\"],[0.8156862745098039,\"rgb(245,162,122)\"],[0.8784313725490196,\"rgb(246,188,153)\"],[0.9411764705882353,\"rgb(247,212,187)\"],[1.0,\"rgb(250,234,220)\"]],\"type\":\"histogram2d\"}],\"histogram\":[{\"marker\":{\"pattern\":{\"fillmode\":\"overlay\",\"size\":10,\"solidity\":0.2}},\"type\":\"histogram\"}],\"mesh3d\":[{\"colorbar\":{\"outlinewidth\":0,\"tickcolor\":\"rgb(36,36,36)\",\"ticklen\":8,\"ticks\":\"outside\",\"tickwidth\":2},\"type\":\"mesh3d\"}],\"parcoords\":[{\"line\":{\"colorbar\":{\"outlinewidth\":0,\"tickcolor\":\"rgb(36,36,36)\",\"ticklen\":8,\"ticks\":\"outside\",\"tickwidth\":2}},\"type\":\"parcoords\"}],\"pie\":[{\"automargin\":true,\"type\":\"pie\"}],\"scatter3d\":[{\"line\":{\"colorbar\":{\"outlinewidth\":0,\"tickcolor\":\"rgb(36,36,36)\",\"ticklen\":8,\"ticks\":\"outside\",\"tickwidth\":2}},\"marker\":{\"colorbar\":{\"outlinewidth\":0,\"tickcolor\":\"rgb(36,36,36)\",\"ticklen\":8,\"ticks\":\"outside\",\"tickwidth\":2}},\"type\":\"scatter3d\"}],\"scattercarpet\":[{\"marker\":{\"colorbar\":{\"outlinewidth\":0,\"tickcolor\":\"rgb(36,36,36)\",\"ticklen\":8,\"ticks\":\"outside\",\"tickwidth\":2}},\"type\":\"scattercarpet\"}],\"scattergeo\":[{\"marker\":{\"colorbar\":{\"outlinewidth\":0,\"tickcolor\":\"rgb(36,36,36)\",\"ticklen\":8,\"ticks\":\"outside\",\"tickwidth\":2}},\"type\":\"scattergeo\"}],\"scattergl\":[{\"marker\":{\"colorbar\":{\"outlinewidth\":0,\"tickcolor\":\"rgb(36,36,36)\",\"ticklen\":8,\"ticks\":\"outside\",\"tickwidth\":2}},\"type\":\"scattergl\"}],\"scattermapbox\":[{\"marker\":{\"colorbar\":{\"outlinewidth\":0,\"tickcolor\":\"rgb(36,36,36)\",\"ticklen\":8,\"ticks\":\"outside\",\"tickwidth\":2}},\"type\":\"scattermapbox\"}],\"scatterpolargl\":[{\"marker\":{\"colorbar\":{\"outlinewidth\":0,\"tickcolor\":\"rgb(36,36,36)\",\"ticklen\":8,\"ticks\":\"outside\",\"tickwidth\":2}},\"type\":\"scatterpolargl\"}],\"scatterpolar\":[{\"marker\":{\"colorbar\":{\"outlinewidth\":0,\"tickcolor\":\"rgb(36,36,36)\",\"ticklen\":8,\"ticks\":\"outside\",\"tickwidth\":2}},\"type\":\"scatterpolar\"}],\"scatter\":[{\"fillpattern\":{\"fillmode\":\"overlay\",\"size\":10,\"solidity\":0.2},\"type\":\"scatter\"}],\"scatterternary\":[{\"marker\":{\"colorbar\":{\"outlinewidth\":0,\"tickcolor\":\"rgb(36,36,36)\",\"ticklen\":8,\"ticks\":\"outside\",\"tickwidth\":2}},\"type\":\"scatterternary\"}],\"surface\":[{\"colorbar\":{\"outlinewidth\":0,\"tickcolor\":\"rgb(36,36,36)\",\"ticklen\":8,\"ticks\":\"outside\",\"tickwidth\":2},\"colorscale\":[[0.0,\"rgb(2,4,25)\"],[0.06274509803921569,\"rgb(24,15,41)\"],[0.12549019607843137,\"rgb(47,23,57)\"],[0.18823529411764706,\"rgb(71,28,72)\"],[0.25098039215686274,\"rgb(97,30,82)\"],[0.3137254901960784,\"rgb(123,30,89)\"],[0.3764705882352941,\"rgb(150,27,91)\"],[0.4392156862745098,\"rgb(177,22,88)\"],[0.5019607843137255,\"rgb(203,26,79)\"],[0.5647058823529412,\"rgb(223,47,67)\"],[0.6274509803921569,\"rgb(236,76,61)\"],[0.6901960784313725,\"rgb(242,107,73)\"],[0.7529411764705882,\"rgb(244,135,95)\"],[0.8156862745098039,\"rgb(245,162,122)\"],[0.8784313725490196,\"rgb(246,188,153)\"],[0.9411764705882353,\"rgb(247,212,187)\"],[1.0,\"rgb(250,234,220)\"]],\"type\":\"surface\"}],\"table\":[{\"cells\":{\"fill\":{\"color\":\"rgb(231,231,240)\"},\"line\":{\"color\":\"white\"}},\"header\":{\"fill\":{\"color\":\"rgb(183,183,191)\"},\"line\":{\"color\":\"white\"}},\"type\":\"table\"}]},\"layout\":{\"annotationdefaults\":{\"arrowcolor\":\"rgb(67,103,167)\"},\"autotypenumbers\":\"strict\",\"coloraxis\":{\"colorbar\":{\"outlinewidth\":0,\"tickcolor\":\"rgb(36,36,36)\",\"ticklen\":8,\"ticks\":\"outside\",\"tickwidth\":2}},\"colorscale\":{\"sequential\":[[0.0,\"rgb(2,4,25)\"],[0.06274509803921569,\"rgb(24,15,41)\"],[0.12549019607843137,\"rgb(47,23,57)\"],[0.18823529411764706,\"rgb(71,28,72)\"],[0.25098039215686274,\"rgb(97,30,82)\"],[0.3137254901960784,\"rgb(123,30,89)\"],[0.3764705882352941,\"rgb(150,27,91)\"],[0.4392156862745098,\"rgb(177,22,88)\"],[0.5019607843137255,\"rgb(203,26,79)\"],[0.5647058823529412,\"rgb(223,47,67)\"],[0.6274509803921569,\"rgb(236,76,61)\"],[0.6901960784313725,\"rgb(242,107,73)\"],[0.7529411764705882,\"rgb(244,135,95)\"],[0.8156862745098039,\"rgb(245,162,122)\"],[0.8784313725490196,\"rgb(246,188,153)\"],[0.9411764705882353,\"rgb(247,212,187)\"],[1.0,\"rgb(250,234,220)\"]],\"sequentialminus\":[[0.0,\"rgb(2,4,25)\"],[0.06274509803921569,\"rgb(24,15,41)\"],[0.12549019607843137,\"rgb(47,23,57)\"],[0.18823529411764706,\"rgb(71,28,72)\"],[0.25098039215686274,\"rgb(97,30,82)\"],[0.3137254901960784,\"rgb(123,30,89)\"],[0.3764705882352941,\"rgb(150,27,91)\"],[0.4392156862745098,\"rgb(177,22,88)\"],[0.5019607843137255,\"rgb(203,26,79)\"],[0.5647058823529412,\"rgb(223,47,67)\"],[0.6274509803921569,\"rgb(236,76,61)\"],[0.6901960784313725,\"rgb(242,107,73)\"],[0.7529411764705882,\"rgb(244,135,95)\"],[0.8156862745098039,\"rgb(245,162,122)\"],[0.8784313725490196,\"rgb(246,188,153)\"],[0.9411764705882353,\"rgb(247,212,187)\"],[1.0,\"rgb(250,234,220)\"]]},\"colorway\":[\"rgb(76,114,176)\",\"rgb(221,132,82)\",\"rgb(85,168,104)\",\"rgb(196,78,82)\",\"rgb(129,114,179)\",\"rgb(147,120,96)\",\"rgb(218,139,195)\",\"rgb(140,140,140)\",\"rgb(204,185,116)\",\"rgb(100,181,205)\"],\"font\":{\"color\":\"rgb(36,36,36)\"},\"geo\":{\"bgcolor\":\"white\",\"lakecolor\":\"white\",\"landcolor\":\"rgb(234,234,242)\",\"showlakes\":true,\"showland\":true,\"subunitcolor\":\"white\"},\"hoverlabel\":{\"align\":\"left\"},\"hovermode\":\"closest\",\"paper_bgcolor\":\"white\",\"plot_bgcolor\":\"rgb(234,234,242)\",\"polar\":{\"angularaxis\":{\"gridcolor\":\"white\",\"linecolor\":\"white\",\"showgrid\":true,\"ticks\":\"\"},\"bgcolor\":\"rgb(234,234,242)\",\"radialaxis\":{\"gridcolor\":\"white\",\"linecolor\":\"white\",\"showgrid\":true,\"ticks\":\"\"}},\"scene\":{\"xaxis\":{\"backgroundcolor\":\"rgb(234,234,242)\",\"gridcolor\":\"white\",\"gridwidth\":2,\"linecolor\":\"white\",\"showbackground\":true,\"showgrid\":true,\"ticks\":\"\",\"zerolinecolor\":\"white\"},\"yaxis\":{\"backgroundcolor\":\"rgb(234,234,242)\",\"gridcolor\":\"white\",\"gridwidth\":2,\"linecolor\":\"white\",\"showbackground\":true,\"showgrid\":true,\"ticks\":\"\",\"zerolinecolor\":\"white\"},\"zaxis\":{\"backgroundcolor\":\"rgb(234,234,242)\",\"gridcolor\":\"white\",\"gridwidth\":2,\"linecolor\":\"white\",\"showbackground\":true,\"showgrid\":true,\"ticks\":\"\",\"zerolinecolor\":\"white\"}},\"shapedefaults\":{\"fillcolor\":\"rgb(67,103,167)\",\"line\":{\"width\":0},\"opacity\":0.5},\"ternary\":{\"aaxis\":{\"gridcolor\":\"white\",\"linecolor\":\"white\",\"showgrid\":true,\"ticks\":\"\"},\"baxis\":{\"gridcolor\":\"white\",\"linecolor\":\"white\",\"showgrid\":true,\"ticks\":\"\"},\"bgcolor\":\"rgb(234,234,242)\",\"caxis\":{\"gridcolor\":\"white\",\"linecolor\":\"white\",\"showgrid\":true,\"ticks\":\"\"}},\"xaxis\":{\"automargin\":true,\"gridcolor\":\"white\",\"linecolor\":\"white\",\"showgrid\":true,\"ticks\":\"\",\"title\":{\"standoff\":15},\"zerolinecolor\":\"white\"},\"yaxis\":{\"automargin\":true,\"gridcolor\":\"white\",\"linecolor\":\"white\",\"showgrid\":true,\"ticks\":\"\",\"title\":{\"standoff\":15},\"zerolinecolor\":\"white\"}}},\"geo\":{\"domain\":{\"x\":[0.0,1.0],\"y\":[0.0,1.0]},\"center\":{},\"scope\":\"south america\"},\"legend\":{\"title\":{\"text\":\"SG_UF_NCM\"},\"tracegroupgap\":0,\"itemsizing\":\"constant\"},\"title\":{\"text\":\"Quantidade de Exporta\\u00e7\\u00e3o - KG LIQUIDO\"}},                        {\"responsive\": true}                    ).then(function(){\n",
       "                            \n",
       "var gd = document.getElementById('bb8dcdbf-6c21-4d6f-bfdf-bac888fd5b8f');\n",
       "var x = new MutationObserver(function (mutations, observer) {{\n",
       "        var display = window.getComputedStyle(gd).display;\n",
       "        if (!display || display === 'none') {{\n",
       "            console.log([gd, 'removed!']);\n",
       "            Plotly.purge(gd);\n",
       "            observer.disconnect();\n",
       "        }}\n",
       "}});\n",
       "\n",
       "// Listen for the removal of the full notebook cells\n",
       "var notebookContainer = gd.closest('#notebook-container');\n",
       "if (notebookContainer) {{\n",
       "    x.observe(notebookContainer, {childList: true});\n",
       "}}\n",
       "\n",
       "// Listen for the clearing of the current output cell\n",
       "var outputEl = gd.closest('.output');\n",
       "if (outputEl) {{\n",
       "    x.observe(outputEl, {childList: true});\n",
       "}}\n",
       "\n",
       "                        })                };                });            </script>        </div>"
      ]
     },
     "metadata": {},
     "output_type": "display_data"
    }
   ],
   "source": [
    "fig_mapa_exportacao.show()\n",
    "fig_mapa_exportacao_quantidade.show()"
   ]
  },
  {
   "cell_type": "code",
   "execution_count": 124,
   "id": "3d39fb94",
   "metadata": {},
   "outputs": [
    {
     "ename": "ValueError",
     "evalue": "\n    Invalid value of type 'plotly.graph_objs._figure.Figure' received for the 'connectgaps' property of scattergeo\n        Received value: Figure({\n    'data': [{'customdata': array([[ -9.62, -36.82]]),\n              'geo': 'geo',\n              'hovertemplate': ('<b>%{hovertext}</b><br><br>SG_' ... '{customdata[1]}<extra></extra>'),\n              'hovertext': array(['AL'], dtype=object),\n              'lat': array([-9.62]),\n              'legendgroup': 'AL',\n              'lon': array([-36.82]),\n              'marker': {'color': 'rgb(76,114,176)', 'symbol': 'circle'},\n              'mode': 'markers',\n              'name': 'AL',\n              'showlegend': True,\n              'type': 'scattergeo'},\n             {'customdata': array([[ -3.47, -65.1 ]]),\n              'geo': 'geo',\n              'hovertemplate': ('<b>%{hovertext}</b><br><br>SG_' ... '{customdata[1]}<extra></extra>'),\n              'hovertext': array(['AM'], dtype=object),\n              'lat': array([-3.47]),\n              'legendgroup': 'AM',\n              'lon': array([-65.1]),\n              'marker': {'color': 'rgb(221,132,82)', 'symbol': 'circle'},\n              'mode': 'markers',\n              'name': 'AM',\n              'showlegend': True,\n              'type': 'scattergeo'},\n             {'customdata': array([[  1.41, -51.77]]),\n              'geo': 'geo',\n              'hovertemplate': ('<b>%{hovertext}</b><br><br>SG_' ... '{customdata[1]}<extra></extra>'),\n              'hovertext': array(['AP'], dtype=object),\n              'lat': array([1.41]),\n              'legendgroup': 'AP',\n              'lon': array([-51.77]),\n              'marker': {'color': 'rgb(85,168,104)', 'symbol': 'circle'},\n              'mode': 'markers',\n              'name': 'AP',\n              'showlegend': True,\n              'type': 'scattergeo'},\n             {'customdata': array([[-13.29, -41.71]]),\n              'geo': 'geo',\n              'hovertemplate': ('<b>%{hovertext}</b><br><br>SG_' ... '{customdata[1]}<extra></extra>'),\n              'hovertext': array(['BA'], dtype=object),\n              'lat': array([-13.29]),\n              'legendgroup': 'BA',\n              'lon': array([-41.71]),\n              'marker': {'color': 'rgb(196,78,82)', 'symbol': 'circle'},\n              'mode': 'markers',\n              'name': 'BA',\n              'showlegend': True,\n              'type': 'scattergeo'},\n             {'customdata': array([[ -5.2 , -39.53]]),\n              'geo': 'geo',\n              'hovertemplate': ('<b>%{hovertext}</b><br><br>SG_' ... '{customdata[1]}<extra></extra>'),\n              'hovertext': array(['CE'], dtype=object),\n              'lat': array([-5.2]),\n              'legendgroup': 'CE',\n              'lon': array([-39.53]),\n              'marker': {'color': 'rgb(129,114,179)', 'symbol': 'circle'},\n              'mode': 'markers',\n              'name': 'CE',\n              'showlegend': True,\n              'type': 'scattergeo'},\n             {'customdata': array([[-19.19, -40.34]]),\n              'geo': 'geo',\n              'hovertemplate': ('<b>%{hovertext}</b><br><br>SG_' ... '{customdata[1]}<extra></extra>'),\n              'hovertext': array(['ES'], dtype=object),\n              'lat': array([-19.19]),\n              'legendgroup': 'ES',\n              'lon': array([-40.34]),\n              'marker': {'color': 'rgb(147,120,96)', 'symbol': 'circle'},\n              'mode': 'markers',\n              'name': 'ES',\n              'showlegend': True,\n              'type': 'scattergeo'},\n             {'customdata': array([[-15.98, -49.86]]),\n              'geo': 'geo',\n              'hovertemplate': ('<b>%{hovertext}</b><br><br>SG_' ... '{customdata[1]}<extra></extra>'),\n              'hovertext': array(['GO'], dtype=object),\n              'lat': array([-15.98]),\n              'legendgroup': 'GO',\n              'lon': array([-49.86]),\n              'marker': {'color': 'rgb(218,139,195)', 'symbol': 'circle'},\n              'mode': 'markers',\n              'name': 'GO',\n              'showlegend': True,\n              'type': 'scattergeo'},\n             {'customdata': array([[ -5.42, -45.44]]),\n              'geo': 'geo',\n              'hovertemplate': ('<b>%{hovertext}</b><br><br>SG_' ... '{customdata[1]}<extra></extra>'),\n              'hovertext': array(['MA'], dtype=object),\n              'lat': array([-5.42]),\n              'legendgroup': 'MA',\n              'lon': array([-45.44]),\n              'marker': {'color': 'rgb(140,140,140)', 'symbol': 'circle'},\n              'mode': 'markers',\n              'name': 'MA',\n              'showlegend': True,\n              'type': 'scattergeo'},\n             {'customdata': array([[-18.1 , -44.38]]),\n              'geo': 'geo',\n              'hovertemplate': ('<b>%{hovertext}</b><br><br>SG_' ... '{customdata[1]}<extra></extra>'),\n              'hovertext': array(['MG'], dtype=object),\n              'lat': array([-18.1]),\n              'legendgroup': 'MG',\n              'lon': array([-44.38]),\n              'marker': {'color': 'rgb(204,185,116)', 'symbol': 'circle'},\n              'mode': 'markers',\n              'name': 'MG',\n              'showlegend': True,\n              'type': 'scattergeo'},\n             {'customdata': array([[ -3.79, -52.48]]),\n              'geo': 'geo',\n              'hovertemplate': ('<b>%{hovertext}</b><br><br>SG_' ... '{customdata[1]}<extra></extra>'),\n              'hovertext': array(['PA'], dtype=object),\n              'lat': array([-3.79]),\n              'legendgroup': 'PA',\n              'lon': array([-52.48]),\n              'marker': {'color': 'rgb(100,181,205)', 'symbol': 'circle'},\n              'mode': 'markers',\n              'name': 'PA',\n              'showlegend': True,\n              'type': 'scattergeo'},\n             {'customdata': array([[ -8.38, -37.86]]),\n              'geo': 'geo',\n              'hovertemplate': ('<b>%{hovertext}</b><br><br>SG_' ... '{customdata[1]}<extra></extra>'),\n              'hovertext': array(['PE'], dtype=object),\n              'lat': array([-8.38]),\n              'legendgroup': 'PE',\n              'lon': array([-37.86]),\n              'marker': {'color': 'rgb(76,114,176)', 'symbol': 'circle'},\n              'mode': 'markers',\n              'name': 'PE',\n              'showlegend': True,\n              'type': 'scattergeo'},\n             {'customdata': array([[-24.89, -51.55]]),\n              'geo': 'geo',\n              'hovertemplate': ('<b>%{hovertext}</b><br><br>SG_' ... '{customdata[1]}<extra></extra>'),\n              'hovertext': array(['PR'], dtype=object),\n              'lat': array([-24.89]),\n              'legendgroup': 'PR',\n              'lon': array([-51.55]),\n              'marker': {'color': 'rgb(221,132,82)', 'symbol': 'circle'},\n              'mode': 'markers',\n              'name': 'PR',\n              'showlegend': True,\n              'type': 'scattergeo'},\n             {'customdata': array([[-22.25, -42.66]]),\n              'geo': 'geo',\n              'hovertemplate': ('<b>%{hovertext}</b><br><br>SG_' ... '{customdata[1]}<extra></extra>'),\n              'hovertext': array(['RJ'], dtype=object),\n              'lat': array([-22.25]),\n              'legendgroup': 'RJ',\n              'lon': array([-42.66]),\n              'marker': {'color': 'rgb(85,168,104)', 'symbol': 'circle'},\n              'mode': 'markers',\n              'name': 'RJ',\n              'showlegend': True,\n              'type': 'scattergeo'},\n             {'customdata': array([[-30.17, -53.5 ]]),\n              'geo': 'geo',\n              'hovertemplate': ('<b>%{hovertext}</b><br><br>SG_' ... '{customdata[1]}<extra></extra>'),\n              'hovertext': array(['RS'], dtype=object),\n              'lat': array([-30.17]),\n              'legendgroup': 'RS',\n              'lon': array([-53.5]),\n              'marker': {'color': 'rgb(196,78,82)', 'symbol': 'circle'},\n              'mode': 'markers',\n              'name': 'RS',\n              'showlegend': True,\n              'type': 'scattergeo'},\n             {'customdata': array([[-27.45, -50.95]]),\n              'geo': 'geo',\n              'hovertemplate': ('<b>%{hovertext}</b><br><br>SG_' ... '{customdata[1]}<extra></extra>'),\n              'hovertext': array(['SC'], dtype=object),\n              'lat': array([-27.45]),\n              'legendgroup': 'SC',\n              'lon': array([-50.95]),\n              'marker': {'color': 'rgb(129,114,179)', 'symbol': 'circle'},\n              'mode': 'markers',\n              'name': 'SC',\n              'showlegend': True,\n              'type': 'scattergeo'},\n             {'customdata': array([[-22.19, -48.79]]),\n              'geo': 'geo',\n              'hovertemplate': ('<b>%{hovertext}</b><br><br>SG_' ... '{customdata[1]}<extra></extra>'),\n              'hovertext': array(['SP'], dtype=object),\n              'lat': array([-22.19]),\n              'legendgroup': 'SP',\n              'lon': array([-48.79]),\n              'marker': {'color': 'rgb(147,120,96)', 'symbol': 'circle'},\n              'mode': 'markers',\n              'name': 'SP',\n              'showlegend': True,\n              'type': 'scattergeo'}],\n    'layout': {'geo': {'center': {}, 'domain': {'x': [0.0, 1.0], 'y': [0.0, 1.0]}, 'scope': 'south america'},\n               'legend': {'title': {'text': 'SG_UF_NCM'}, 'tracegroupgap': 0},\n               'template': '...',\n               'title': {'text': 'Estados Exportadores'}}\n})\n\n    The 'connectgaps' property must be specified as a bool\n    (either True, or False)",
     "output_type": "error",
     "traceback": [
      "\u001b[0;31m---------------------------------------------------------------------------\u001b[0m",
      "\u001b[0;31mValueError\u001b[0m                                Traceback (most recent call last)",
      "\u001b[0;32m/tmp/ipykernel_398962/1833366460.py\u001b[0m in \u001b[0;36m<module>\u001b[0;34m\u001b[0m\n\u001b[1;32m      1\u001b[0m \u001b[0mfig\u001b[0m \u001b[0;34m=\u001b[0m \u001b[0mmake_subplots\u001b[0m\u001b[0;34m(\u001b[0m\u001b[0mrows\u001b[0m\u001b[0;34m=\u001b[0m\u001b[0;36m2\u001b[0m\u001b[0;34m,\u001b[0m \u001b[0mshared_xaxes\u001b[0m\u001b[0;34m=\u001b[0m\u001b[0;32mTrue\u001b[0m\u001b[0;34m)\u001b[0m\u001b[0;34m\u001b[0m\u001b[0;34m\u001b[0m\u001b[0m\n\u001b[0;32m----> 2\u001b[0;31m \u001b[0mfig\u001b[0m\u001b[0;34m.\u001b[0m\u001b[0madd_scattergeo\u001b[0m\u001b[0;34m(\u001b[0m\u001b[0mfig_mapa_exportacao\u001b[0m\u001b[0;34m)\u001b[0m\u001b[0;34m\u001b[0m\u001b[0;34m\u001b[0m\u001b[0m\n\u001b[0m\u001b[1;32m      3\u001b[0m \u001b[0mfig\u001b[0m\u001b[0;34m.\u001b[0m\u001b[0madd_scattergeo\u001b[0m\u001b[0;34m(\u001b[0m\u001b[0mfig_mapa_exportacao_quantidade\u001b[0m\u001b[0;34m)\u001b[0m\u001b[0;34m\u001b[0m\u001b[0;34m\u001b[0m\u001b[0m\n",
      "\u001b[0;32m~/anaconda3/lib/python3.9/site-packages/plotly/graph_objs/_figure.py\u001b[0m in \u001b[0;36madd_scattergeo\u001b[0;34m(self, connectgaps, customdata, customdatasrc, featureidkey, fill, fillcolor, geo, geojson, hoverinfo, hoverinfosrc, hoverlabel, hovertemplate, hovertemplatesrc, hovertext, hovertextsrc, ids, idssrc, lat, latsrc, legendgroup, legendgrouptitle, legendrank, line, locationmode, locations, locationssrc, lon, lonsrc, marker, meta, metasrc, mode, name, opacity, selected, selectedpoints, showlegend, stream, text, textfont, textposition, textpositionsrc, textsrc, texttemplate, texttemplatesrc, uid, uirevision, unselected, visible, row, col, **kwargs)\u001b[0m\n\u001b[1;32m  14342\u001b[0m         \u001b[0;32mfrom\u001b[0m \u001b[0mplotly\u001b[0m\u001b[0;34m.\u001b[0m\u001b[0mgraph_objs\u001b[0m \u001b[0;32mimport\u001b[0m \u001b[0mScattergeo\u001b[0m\u001b[0;34m\u001b[0m\u001b[0;34m\u001b[0m\u001b[0m\n\u001b[1;32m  14343\u001b[0m \u001b[0;34m\u001b[0m\u001b[0m\n\u001b[0;32m> 14344\u001b[0;31m         new_trace = Scattergeo(\n\u001b[0m\u001b[1;32m  14345\u001b[0m             \u001b[0mconnectgaps\u001b[0m\u001b[0;34m=\u001b[0m\u001b[0mconnectgaps\u001b[0m\u001b[0;34m,\u001b[0m\u001b[0;34m\u001b[0m\u001b[0;34m\u001b[0m\u001b[0m\n\u001b[1;32m  14346\u001b[0m             \u001b[0mcustomdata\u001b[0m\u001b[0;34m=\u001b[0m\u001b[0mcustomdata\u001b[0m\u001b[0;34m,\u001b[0m\u001b[0;34m\u001b[0m\u001b[0;34m\u001b[0m\u001b[0m\n",
      "\u001b[0;32m~/anaconda3/lib/python3.9/site-packages/plotly/graph_objs/_scattergeo.py\u001b[0m in \u001b[0;36m__init__\u001b[0;34m(self, arg, connectgaps, customdata, customdatasrc, featureidkey, fill, fillcolor, geo, geojson, hoverinfo, hoverinfosrc, hoverlabel, hovertemplate, hovertemplatesrc, hovertext, hovertextsrc, ids, idssrc, lat, latsrc, legendgroup, legendgrouptitle, legendrank, line, locationmode, locations, locationssrc, lon, lonsrc, marker, meta, metasrc, mode, name, opacity, selected, selectedpoints, showlegend, stream, text, textfont, textposition, textpositionsrc, textsrc, texttemplate, texttemplatesrc, uid, uirevision, unselected, visible, **kwargs)\u001b[0m\n\u001b[1;32m   2128\u001b[0m         \u001b[0m_v\u001b[0m \u001b[0;34m=\u001b[0m \u001b[0mconnectgaps\u001b[0m \u001b[0;32mif\u001b[0m \u001b[0mconnectgaps\u001b[0m \u001b[0;32mis\u001b[0m \u001b[0;32mnot\u001b[0m \u001b[0;32mNone\u001b[0m \u001b[0;32melse\u001b[0m \u001b[0m_v\u001b[0m\u001b[0;34m\u001b[0m\u001b[0;34m\u001b[0m\u001b[0m\n\u001b[1;32m   2129\u001b[0m         \u001b[0;32mif\u001b[0m \u001b[0m_v\u001b[0m \u001b[0;32mis\u001b[0m \u001b[0;32mnot\u001b[0m \u001b[0;32mNone\u001b[0m\u001b[0;34m:\u001b[0m\u001b[0;34m\u001b[0m\u001b[0;34m\u001b[0m\u001b[0m\n\u001b[0;32m-> 2130\u001b[0;31m             \u001b[0mself\u001b[0m\u001b[0;34m[\u001b[0m\u001b[0;34m\"connectgaps\"\u001b[0m\u001b[0;34m]\u001b[0m \u001b[0;34m=\u001b[0m \u001b[0m_v\u001b[0m\u001b[0;34m\u001b[0m\u001b[0;34m\u001b[0m\u001b[0m\n\u001b[0m\u001b[1;32m   2131\u001b[0m         \u001b[0m_v\u001b[0m \u001b[0;34m=\u001b[0m \u001b[0marg\u001b[0m\u001b[0;34m.\u001b[0m\u001b[0mpop\u001b[0m\u001b[0;34m(\u001b[0m\u001b[0;34m\"customdata\"\u001b[0m\u001b[0;34m,\u001b[0m \u001b[0;32mNone\u001b[0m\u001b[0;34m)\u001b[0m\u001b[0;34m\u001b[0m\u001b[0;34m\u001b[0m\u001b[0m\n\u001b[1;32m   2132\u001b[0m         \u001b[0m_v\u001b[0m \u001b[0;34m=\u001b[0m \u001b[0mcustomdata\u001b[0m \u001b[0;32mif\u001b[0m \u001b[0mcustomdata\u001b[0m \u001b[0;32mis\u001b[0m \u001b[0;32mnot\u001b[0m \u001b[0;32mNone\u001b[0m \u001b[0;32melse\u001b[0m \u001b[0m_v\u001b[0m\u001b[0;34m\u001b[0m\u001b[0;34m\u001b[0m\u001b[0m\n",
      "\u001b[0;32m~/anaconda3/lib/python3.9/site-packages/plotly/basedatatypes.py\u001b[0m in \u001b[0;36m__setitem__\u001b[0;34m(self, prop, value)\u001b[0m\n\u001b[1;32m   4857\u001b[0m                 \u001b[0;31m# ### Handle simple property ###\u001b[0m\u001b[0;34m\u001b[0m\u001b[0;34m\u001b[0m\u001b[0m\n\u001b[1;32m   4858\u001b[0m                 \u001b[0;32melse\u001b[0m\u001b[0;34m:\u001b[0m\u001b[0;34m\u001b[0m\u001b[0;34m\u001b[0m\u001b[0m\n\u001b[0;32m-> 4859\u001b[0;31m                     \u001b[0mself\u001b[0m\u001b[0;34m.\u001b[0m\u001b[0m_set_prop\u001b[0m\u001b[0;34m(\u001b[0m\u001b[0mprop\u001b[0m\u001b[0;34m,\u001b[0m \u001b[0mvalue\u001b[0m\u001b[0;34m)\u001b[0m\u001b[0;34m\u001b[0m\u001b[0;34m\u001b[0m\u001b[0m\n\u001b[0m\u001b[1;32m   4860\u001b[0m             \u001b[0;32melse\u001b[0m\u001b[0;34m:\u001b[0m\u001b[0;34m\u001b[0m\u001b[0;34m\u001b[0m\u001b[0m\n\u001b[1;32m   4861\u001b[0m                 \u001b[0;31m# Make sure properties dict is initialized\u001b[0m\u001b[0;34m\u001b[0m\u001b[0;34m\u001b[0m\u001b[0m\n",
      "\u001b[0;32m~/anaconda3/lib/python3.9/site-packages/plotly/basedatatypes.py\u001b[0m in \u001b[0;36m_set_prop\u001b[0;34m(self, prop, val)\u001b[0m\n\u001b[1;32m   5201\u001b[0m                 \u001b[0;32mreturn\u001b[0m\u001b[0;34m\u001b[0m\u001b[0;34m\u001b[0m\u001b[0m\n\u001b[1;32m   5202\u001b[0m             \u001b[0;32melse\u001b[0m\u001b[0;34m:\u001b[0m\u001b[0;34m\u001b[0m\u001b[0;34m\u001b[0m\u001b[0m\n\u001b[0;32m-> 5203\u001b[0;31m                 \u001b[0;32mraise\u001b[0m \u001b[0merr\u001b[0m\u001b[0;34m\u001b[0m\u001b[0;34m\u001b[0m\u001b[0m\n\u001b[0m\u001b[1;32m   5204\u001b[0m \u001b[0;34m\u001b[0m\u001b[0m\n\u001b[1;32m   5205\u001b[0m         \u001b[0;31m# val is None\u001b[0m\u001b[0;34m\u001b[0m\u001b[0;34m\u001b[0m\u001b[0m\n",
      "\u001b[0;32m~/anaconda3/lib/python3.9/site-packages/plotly/basedatatypes.py\u001b[0m in \u001b[0;36m_set_prop\u001b[0;34m(self, prop, val)\u001b[0m\n\u001b[1;32m   5196\u001b[0m \u001b[0;34m\u001b[0m\u001b[0m\n\u001b[1;32m   5197\u001b[0m         \u001b[0;32mtry\u001b[0m\u001b[0;34m:\u001b[0m\u001b[0;34m\u001b[0m\u001b[0;34m\u001b[0m\u001b[0m\n\u001b[0;32m-> 5198\u001b[0;31m             \u001b[0mval\u001b[0m \u001b[0;34m=\u001b[0m \u001b[0mvalidator\u001b[0m\u001b[0;34m.\u001b[0m\u001b[0mvalidate_coerce\u001b[0m\u001b[0;34m(\u001b[0m\u001b[0mval\u001b[0m\u001b[0;34m)\u001b[0m\u001b[0;34m\u001b[0m\u001b[0;34m\u001b[0m\u001b[0m\n\u001b[0m\u001b[1;32m   5199\u001b[0m         \u001b[0;32mexcept\u001b[0m \u001b[0mValueError\u001b[0m \u001b[0;32mas\u001b[0m \u001b[0merr\u001b[0m\u001b[0;34m:\u001b[0m\u001b[0;34m\u001b[0m\u001b[0;34m\u001b[0m\u001b[0m\n\u001b[1;32m   5200\u001b[0m             \u001b[0;32mif\u001b[0m \u001b[0mself\u001b[0m\u001b[0;34m.\u001b[0m\u001b[0m_skip_invalid\u001b[0m\u001b[0;34m:\u001b[0m\u001b[0;34m\u001b[0m\u001b[0;34m\u001b[0m\u001b[0m\n",
      "\u001b[0;32m~/anaconda3/lib/python3.9/site-packages/_plotly_utils/basevalidators.py\u001b[0m in \u001b[0;36mvalidate_coerce\u001b[0;34m(self, v)\u001b[0m\n\u001b[1;32m    641\u001b[0m             \u001b[0;32mpass\u001b[0m\u001b[0;34m\u001b[0m\u001b[0;34m\u001b[0m\u001b[0m\n\u001b[1;32m    642\u001b[0m         \u001b[0;32melif\u001b[0m \u001b[0;32mnot\u001b[0m \u001b[0misinstance\u001b[0m\u001b[0;34m(\u001b[0m\u001b[0mv\u001b[0m\u001b[0;34m,\u001b[0m \u001b[0mbool\u001b[0m\u001b[0;34m)\u001b[0m\u001b[0;34m:\u001b[0m\u001b[0;34m\u001b[0m\u001b[0;34m\u001b[0m\u001b[0m\n\u001b[0;32m--> 643\u001b[0;31m             \u001b[0mself\u001b[0m\u001b[0;34m.\u001b[0m\u001b[0mraise_invalid_val\u001b[0m\u001b[0;34m(\u001b[0m\u001b[0mv\u001b[0m\u001b[0;34m)\u001b[0m\u001b[0;34m\u001b[0m\u001b[0;34m\u001b[0m\u001b[0m\n\u001b[0m\u001b[1;32m    644\u001b[0m \u001b[0;34m\u001b[0m\u001b[0m\n\u001b[1;32m    645\u001b[0m         \u001b[0;32mreturn\u001b[0m \u001b[0mv\u001b[0m\u001b[0;34m\u001b[0m\u001b[0;34m\u001b[0m\u001b[0m\n",
      "\u001b[0;32m~/anaconda3/lib/python3.9/site-packages/_plotly_utils/basevalidators.py\u001b[0m in \u001b[0;36mraise_invalid_val\u001b[0;34m(self, v, inds)\u001b[0m\n\u001b[1;32m    286\u001b[0m                 \u001b[0mname\u001b[0m \u001b[0;34m+=\u001b[0m \u001b[0;34m\"[\"\u001b[0m \u001b[0;34m+\u001b[0m \u001b[0mstr\u001b[0m\u001b[0;34m(\u001b[0m\u001b[0mi\u001b[0m\u001b[0;34m)\u001b[0m \u001b[0;34m+\u001b[0m \u001b[0;34m\"]\"\u001b[0m\u001b[0;34m\u001b[0m\u001b[0;34m\u001b[0m\u001b[0m\n\u001b[1;32m    287\u001b[0m \u001b[0;34m\u001b[0m\u001b[0m\n\u001b[0;32m--> 288\u001b[0;31m         raise ValueError(\n\u001b[0m\u001b[1;32m    289\u001b[0m             \"\"\"\n\u001b[1;32m    290\u001b[0m     \u001b[0mInvalid\u001b[0m \u001b[0mvalue\u001b[0m \u001b[0mof\u001b[0m \u001b[0mtype\u001b[0m \u001b[0;34m{\u001b[0m\u001b[0mtyp\u001b[0m\u001b[0;34m}\u001b[0m \u001b[0mreceived\u001b[0m \u001b[0;32mfor\u001b[0m \u001b[0mthe\u001b[0m \u001b[0;34m'{name}'\u001b[0m \u001b[0mproperty\u001b[0m \u001b[0mof\u001b[0m \u001b[0;34m{\u001b[0m\u001b[0mpname\u001b[0m\u001b[0;34m}\u001b[0m\u001b[0;34m\u001b[0m\u001b[0;34m\u001b[0m\u001b[0m\n",
      "\u001b[0;31mValueError\u001b[0m: \n    Invalid value of type 'plotly.graph_objs._figure.Figure' received for the 'connectgaps' property of scattergeo\n        Received value: Figure({\n    'data': [{'customdata': array([[ -9.62, -36.82]]),\n              'geo': 'geo',\n              'hovertemplate': ('<b>%{hovertext}</b><br><br>SG_' ... '{customdata[1]}<extra></extra>'),\n              'hovertext': array(['AL'], dtype=object),\n              'lat': array([-9.62]),\n              'legendgroup': 'AL',\n              'lon': array([-36.82]),\n              'marker': {'color': 'rgb(76,114,176)', 'symbol': 'circle'},\n              'mode': 'markers',\n              'name': 'AL',\n              'showlegend': True,\n              'type': 'scattergeo'},\n             {'customdata': array([[ -3.47, -65.1 ]]),\n              'geo': 'geo',\n              'hovertemplate': ('<b>%{hovertext}</b><br><br>SG_' ... '{customdata[1]}<extra></extra>'),\n              'hovertext': array(['AM'], dtype=object),\n              'lat': array([-3.47]),\n              'legendgroup': 'AM',\n              'lon': array([-65.1]),\n              'marker': {'color': 'rgb(221,132,82)', 'symbol': 'circle'},\n              'mode': 'markers',\n              'name': 'AM',\n              'showlegend': True,\n              'type': 'scattergeo'},\n             {'customdata': array([[  1.41, -51.77]]),\n              'geo': 'geo',\n              'hovertemplate': ('<b>%{hovertext}</b><br><br>SG_' ... '{customdata[1]}<extra></extra>'),\n              'hovertext': array(['AP'], dtype=object),\n              'lat': array([1.41]),\n              'legendgroup': 'AP',\n              'lon': array([-51.77]),\n              'marker': {'color': 'rgb(85,168,104)', 'symbol': 'circle'},\n              'mode': 'markers',\n              'name': 'AP',\n              'showlegend': True,\n              'type': 'scattergeo'},\n             {'customdata': array([[-13.29, -41.71]]),\n              'geo': 'geo',\n              'hovertemplate': ('<b>%{hovertext}</b><br><br>SG_' ... '{customdata[1]}<extra></extra>'),\n              'hovertext': array(['BA'], dtype=object),\n              'lat': array([-13.29]),\n              'legendgroup': 'BA',\n              'lon': array([-41.71]),\n              'marker': {'color': 'rgb(196,78,82)', 'symbol': 'circle'},\n              'mode': 'markers',\n              'name': 'BA',\n              'showlegend': True,\n              'type': 'scattergeo'},\n             {'customdata': array([[ -5.2 , -39.53]]),\n              'geo': 'geo',\n              'hovertemplate': ('<b>%{hovertext}</b><br><br>SG_' ... '{customdata[1]}<extra></extra>'),\n              'hovertext': array(['CE'], dtype=object),\n              'lat': array([-5.2]),\n              'legendgroup': 'CE',\n              'lon': array([-39.53]),\n              'marker': {'color': 'rgb(129,114,179)', 'symbol': 'circle'},\n              'mode': 'markers',\n              'name': 'CE',\n              'showlegend': True,\n              'type': 'scattergeo'},\n             {'customdata': array([[-19.19, -40.34]]),\n              'geo': 'geo',\n              'hovertemplate': ('<b>%{hovertext}</b><br><br>SG_' ... '{customdata[1]}<extra></extra>'),\n              'hovertext': array(['ES'], dtype=object),\n              'lat': array([-19.19]),\n              'legendgroup': 'ES',\n              'lon': array([-40.34]),\n              'marker': {'color': 'rgb(147,120,96)', 'symbol': 'circle'},\n              'mode': 'markers',\n              'name': 'ES',\n              'showlegend': True,\n              'type': 'scattergeo'},\n             {'customdata': array([[-15.98, -49.86]]),\n              'geo': 'geo',\n              'hovertemplate': ('<b>%{hovertext}</b><br><br>SG_' ... '{customdata[1]}<extra></extra>'),\n              'hovertext': array(['GO'], dtype=object),\n              'lat': array([-15.98]),\n              'legendgroup': 'GO',\n              'lon': array([-49.86]),\n              'marker': {'color': 'rgb(218,139,195)', 'symbol': 'circle'},\n              'mode': 'markers',\n              'name': 'GO',\n              'showlegend': True,\n              'type': 'scattergeo'},\n             {'customdata': array([[ -5.42, -45.44]]),\n              'geo': 'geo',\n              'hovertemplate': ('<b>%{hovertext}</b><br><br>SG_' ... '{customdata[1]}<extra></extra>'),\n              'hovertext': array(['MA'], dtype=object),\n              'lat': array([-5.42]),\n              'legendgroup': 'MA',\n              'lon': array([-45.44]),\n              'marker': {'color': 'rgb(140,140,140)', 'symbol': 'circle'},\n              'mode': 'markers',\n              'name': 'MA',\n              'showlegend': True,\n              'type': 'scattergeo'},\n             {'customdata': array([[-18.1 , -44.38]]),\n              'geo': 'geo',\n              'hovertemplate': ('<b>%{hovertext}</b><br><br>SG_' ... '{customdata[1]}<extra></extra>'),\n              'hovertext': array(['MG'], dtype=object),\n              'lat': array([-18.1]),\n              'legendgroup': 'MG',\n              'lon': array([-44.38]),\n              'marker': {'color': 'rgb(204,185,116)', 'symbol': 'circle'},\n              'mode': 'markers',\n              'name': 'MG',\n              'showlegend': True,\n              'type': 'scattergeo'},\n             {'customdata': array([[ -3.79, -52.48]]),\n              'geo': 'geo',\n              'hovertemplate': ('<b>%{hovertext}</b><br><br>SG_' ... '{customdata[1]}<extra></extra>'),\n              'hovertext': array(['PA'], dtype=object),\n              'lat': array([-3.79]),\n              'legendgroup': 'PA',\n              'lon': array([-52.48]),\n              'marker': {'color': 'rgb(100,181,205)', 'symbol': 'circle'},\n              'mode': 'markers',\n              'name': 'PA',\n              'showlegend': True,\n              'type': 'scattergeo'},\n             {'customdata': array([[ -8.38, -37.86]]),\n              'geo': 'geo',\n              'hovertemplate': ('<b>%{hovertext}</b><br><br>SG_' ... '{customdata[1]}<extra></extra>'),\n              'hovertext': array(['PE'], dtype=object),\n              'lat': array([-8.38]),\n              'legendgroup': 'PE',\n              'lon': array([-37.86]),\n              'marker': {'color': 'rgb(76,114,176)', 'symbol': 'circle'},\n              'mode': 'markers',\n              'name': 'PE',\n              'showlegend': True,\n              'type': 'scattergeo'},\n             {'customdata': array([[-24.89, -51.55]]),\n              'geo': 'geo',\n              'hovertemplate': ('<b>%{hovertext}</b><br><br>SG_' ... '{customdata[1]}<extra></extra>'),\n              'hovertext': array(['PR'], dtype=object),\n              'lat': array([-24.89]),\n              'legendgroup': 'PR',\n              'lon': array([-51.55]),\n              'marker': {'color': 'rgb(221,132,82)', 'symbol': 'circle'},\n              'mode': 'markers',\n              'name': 'PR',\n              'showlegend': True,\n              'type': 'scattergeo'},\n             {'customdata': array([[-22.25, -42.66]]),\n              'geo': 'geo',\n              'hovertemplate': ('<b>%{hovertext}</b><br><br>SG_' ... '{customdata[1]}<extra></extra>'),\n              'hovertext': array(['RJ'], dtype=object),\n              'lat': array([-22.25]),\n              'legendgroup': 'RJ',\n              'lon': array([-42.66]),\n              'marker': {'color': 'rgb(85,168,104)', 'symbol': 'circle'},\n              'mode': 'markers',\n              'name': 'RJ',\n              'showlegend': True,\n              'type': 'scattergeo'},\n             {'customdata': array([[-30.17, -53.5 ]]),\n              'geo': 'geo',\n              'hovertemplate': ('<b>%{hovertext}</b><br><br>SG_' ... '{customdata[1]}<extra></extra>'),\n              'hovertext': array(['RS'], dtype=object),\n              'lat': array([-30.17]),\n              'legendgroup': 'RS',\n              'lon': array([-53.5]),\n              'marker': {'color': 'rgb(196,78,82)', 'symbol': 'circle'},\n              'mode': 'markers',\n              'name': 'RS',\n              'showlegend': True,\n              'type': 'scattergeo'},\n             {'customdata': array([[-27.45, -50.95]]),\n              'geo': 'geo',\n              'hovertemplate': ('<b>%{hovertext}</b><br><br>SG_' ... '{customdata[1]}<extra></extra>'),\n              'hovertext': array(['SC'], dtype=object),\n              'lat': array([-27.45]),\n              'legendgroup': 'SC',\n              'lon': array([-50.95]),\n              'marker': {'color': 'rgb(129,114,179)', 'symbol': 'circle'},\n              'mode': 'markers',\n              'name': 'SC',\n              'showlegend': True,\n              'type': 'scattergeo'},\n             {'customdata': array([[-22.19, -48.79]]),\n              'geo': 'geo',\n              'hovertemplate': ('<b>%{hovertext}</b><br><br>SG_' ... '{customdata[1]}<extra></extra>'),\n              'hovertext': array(['SP'], dtype=object),\n              'lat': array([-22.19]),\n              'legendgroup': 'SP',\n              'lon': array([-48.79]),\n              'marker': {'color': 'rgb(147,120,96)', 'symbol': 'circle'},\n              'mode': 'markers',\n              'name': 'SP',\n              'showlegend': True,\n              'type': 'scattergeo'}],\n    'layout': {'geo': {'center': {}, 'domain': {'x': [0.0, 1.0], 'y': [0.0, 1.0]}, 'scope': 'south america'},\n               'legend': {'title': {'text': 'SG_UF_NCM'}, 'tracegroupgap': 0},\n               'template': '...',\n               'title': {'text': 'Estados Exportadores'}}\n})\n\n    The 'connectgaps' property must be specified as a bool\n    (either True, or False)"
     ]
    }
   ],
   "source": [
    "fig = make_subplots(rows=2, shared_xaxes=True)\n",
    "fig.add_scattergeo(fig_mapa_exportacao) \n",
    "fig.add_scattergeo(fig_mapa_exportacao_quantidade) "
   ]
  },
  {
   "cell_type": "code",
   "execution_count": null,
   "id": "3c9b5956",
   "metadata": {},
   "outputs": [],
   "source": []
  }
 ],
 "metadata": {
  "kernelspec": {
   "display_name": "Python 3 (ipykernel)",
   "language": "python",
   "name": "python3"
  },
  "language_info": {
   "codemirror_mode": {
    "name": "ipython",
    "version": 3
   },
   "file_extension": ".py",
   "mimetype": "text/x-python",
   "name": "python",
   "nbconvert_exporter": "python",
   "pygments_lexer": "ipython3",
   "version": "3.9.13"
  }
 },
 "nbformat": 4,
 "nbformat_minor": 5
}
