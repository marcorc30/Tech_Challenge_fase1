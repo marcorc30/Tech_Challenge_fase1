{
 "cells": [
  {
   "cell_type": "markdown",
   "id": "37e75125",
   "metadata": {},
   "source": [
    "### Dados da exportação de vinhos do Brasil dos últimos 15 anos\n",
    "\n",
    "O Brasil é o terceiro país maior país em termo de quantidade de produção da América do Sul, perdendo para a Argentina e para o Chile.\n",
    "Essa quantidade de produção impacta na quantidade de exportação?\n",
    "\n",
    "\n",
    "https://www.embrapa.br/dados-de-pesquisa"
   ]
  },
  {
   "cell_type": "code",
   "execution_count": 10,
   "id": "e54479eb",
   "metadata": {},
   "outputs": [],
   "source": [
    "import pandas as pd"
   ]
  },
  {
   "cell_type": "code",
   "execution_count": 11,
   "id": "4b7319c3",
   "metadata": {},
   "outputs": [],
   "source": [
    "exportacao = pd.read_csv(\"dados/EXP_2000_2023_20230906_ANUAL.csv\", sep=\";\")"
   ]
  },
  {
   "cell_type": "code",
   "execution_count": 12,
   "id": "98fc64c4",
   "metadata": {},
   "outputs": [
    {
     "data": {
      "text/html": [
       "<div>\n",
       "<style scoped>\n",
       "    .dataframe tbody tr th:only-of-type {\n",
       "        vertical-align: middle;\n",
       "    }\n",
       "\n",
       "    .dataframe tbody tr th {\n",
       "        vertical-align: top;\n",
       "    }\n",
       "\n",
       "    .dataframe thead th {\n",
       "        text-align: right;\n",
       "    }\n",
       "</style>\n",
       "<table border=\"1\" class=\"dataframe\">\n",
       "  <thead>\n",
       "    <tr style=\"text-align: right;\">\n",
       "      <th></th>\n",
       "      <th>Year</th>\n",
       "      <th>Country</th>\n",
       "      <th>US$ FOB</th>\n",
       "      <th>Net Weight</th>\n",
       "    </tr>\n",
       "  </thead>\n",
       "  <tbody>\n",
       "    <tr>\n",
       "      <th>0</th>\n",
       "      <td>2023</td>\n",
       "      <td>Paraguay</td>\n",
       "      <td>3752857</td>\n",
       "      <td>2494499</td>\n",
       "    </tr>\n",
       "    <tr>\n",
       "      <th>1</th>\n",
       "      <td>2023</td>\n",
       "      <td>Haiti</td>\n",
       "      <td>400780</td>\n",
       "      <td>263386</td>\n",
       "    </tr>\n",
       "    <tr>\n",
       "      <th>2</th>\n",
       "      <td>2023</td>\n",
       "      <td>Uruguay</td>\n",
       "      <td>394371</td>\n",
       "      <td>308490</td>\n",
       "    </tr>\n",
       "    <tr>\n",
       "      <th>3</th>\n",
       "      <td>2023</td>\n",
       "      <td>Venezuela</td>\n",
       "      <td>163280</td>\n",
       "      <td>105750</td>\n",
       "    </tr>\n",
       "    <tr>\n",
       "      <th>4</th>\n",
       "      <td>2023</td>\n",
       "      <td>United States</td>\n",
       "      <td>157439</td>\n",
       "      <td>85667</td>\n",
       "    </tr>\n",
       "  </tbody>\n",
       "</table>\n",
       "</div>"
      ],
      "text/plain": [
       "   Year        Country  US$ FOB  Net Weight\n",
       "0  2023       Paraguay  3752857     2494499\n",
       "1  2023          Haiti   400780      263386\n",
       "2  2023        Uruguay   394371      308490\n",
       "3  2023      Venezuela   163280      105750\n",
       "4  2023  United States   157439       85667"
      ]
     },
     "execution_count": 12,
     "metadata": {},
     "output_type": "execute_result"
    }
   ],
   "source": [
    "exportacao.head()"
   ]
  },
  {
   "cell_type": "code",
   "execution_count": 13,
   "id": "2c95d4b2",
   "metadata": {},
   "outputs": [
    {
     "name": "stdout",
     "output_type": "stream",
     "text": [
      "<class 'pandas.core.frame.DataFrame'>\n",
      "RangeIndex: 956 entries, 0 to 955\n",
      "Data columns (total 4 columns):\n",
      " #   Column      Non-Null Count  Dtype \n",
      "---  ------      --------------  ----- \n",
      " 0   Year        956 non-null    int64 \n",
      " 1   Country     956 non-null    object\n",
      " 2   US$ FOB     956 non-null    int64 \n",
      " 3   Net Weight  956 non-null    int64 \n",
      "dtypes: int64(3), object(1)\n",
      "memory usage: 30.0+ KB\n"
     ]
    }
   ],
   "source": [
    "exportacao.info()"
   ]
  },
  {
   "cell_type": "code",
   "execution_count": 15,
   "id": "7d2d4b69",
   "metadata": {},
   "outputs": [],
   "source": [
    "exportacao_ultimos_15anos = df.query('Year > 2008')"
   ]
  },
  {
   "cell_type": "code",
   "execution_count": 16,
   "id": "84f99ca4",
   "metadata": {},
   "outputs": [
    {
     "data": {
      "text/html": [
       "<div>\n",
       "<style scoped>\n",
       "    .dataframe tbody tr th:only-of-type {\n",
       "        vertical-align: middle;\n",
       "    }\n",
       "\n",
       "    .dataframe tbody tr th {\n",
       "        vertical-align: top;\n",
       "    }\n",
       "\n",
       "    .dataframe thead th {\n",
       "        text-align: right;\n",
       "    }\n",
       "</style>\n",
       "<table border=\"1\" class=\"dataframe\">\n",
       "  <thead>\n",
       "    <tr style=\"text-align: right;\">\n",
       "      <th></th>\n",
       "      <th>Year</th>\n",
       "      <th>Country</th>\n",
       "      <th>US$ FOB</th>\n",
       "      <th>Net Weight</th>\n",
       "    </tr>\n",
       "  </thead>\n",
       "  <tbody>\n",
       "    <tr>\n",
       "      <th>0</th>\n",
       "      <td>2023</td>\n",
       "      <td>Paraguay</td>\n",
       "      <td>3752857</td>\n",
       "      <td>2494499</td>\n",
       "    </tr>\n",
       "    <tr>\n",
       "      <th>1</th>\n",
       "      <td>2023</td>\n",
       "      <td>Haiti</td>\n",
       "      <td>400780</td>\n",
       "      <td>263386</td>\n",
       "    </tr>\n",
       "    <tr>\n",
       "      <th>2</th>\n",
       "      <td>2023</td>\n",
       "      <td>Uruguay</td>\n",
       "      <td>394371</td>\n",
       "      <td>308490</td>\n",
       "    </tr>\n",
       "    <tr>\n",
       "      <th>3</th>\n",
       "      <td>2023</td>\n",
       "      <td>Venezuela</td>\n",
       "      <td>163280</td>\n",
       "      <td>105750</td>\n",
       "    </tr>\n",
       "    <tr>\n",
       "      <th>4</th>\n",
       "      <td>2023</td>\n",
       "      <td>United States</td>\n",
       "      <td>157439</td>\n",
       "      <td>85667</td>\n",
       "    </tr>\n",
       "    <tr>\n",
       "      <th>...</th>\n",
       "      <td>...</td>\n",
       "      <td>...</td>\n",
       "      <td>...</td>\n",
       "      <td>...</td>\n",
       "    </tr>\n",
       "    <tr>\n",
       "      <th>723</th>\n",
       "      <td>2009</td>\n",
       "      <td>El Salvador</td>\n",
       "      <td>100</td>\n",
       "      <td>55</td>\n",
       "    </tr>\n",
       "    <tr>\n",
       "      <th>724</th>\n",
       "      <td>2009</td>\n",
       "      <td>Panama</td>\n",
       "      <td>30</td>\n",
       "      <td>24</td>\n",
       "    </tr>\n",
       "    <tr>\n",
       "      <th>725</th>\n",
       "      <td>2009</td>\n",
       "      <td>Honduras</td>\n",
       "      <td>30</td>\n",
       "      <td>14</td>\n",
       "    </tr>\n",
       "    <tr>\n",
       "      <th>726</th>\n",
       "      <td>2009</td>\n",
       "      <td>Nicaragua</td>\n",
       "      <td>24</td>\n",
       "      <td>24</td>\n",
       "    </tr>\n",
       "    <tr>\n",
       "      <th>727</th>\n",
       "      <td>2009</td>\n",
       "      <td>Guatemala</td>\n",
       "      <td>20</td>\n",
       "      <td>20</td>\n",
       "    </tr>\n",
       "  </tbody>\n",
       "</table>\n",
       "<p>728 rows × 4 columns</p>\n",
       "</div>"
      ],
      "text/plain": [
       "     Year        Country  US$ FOB  Net Weight\n",
       "0    2023       Paraguay  3752857     2494499\n",
       "1    2023          Haiti   400780      263386\n",
       "2    2023        Uruguay   394371      308490\n",
       "3    2023      Venezuela   163280      105750\n",
       "4    2023  United States   157439       85667\n",
       "..    ...            ...      ...         ...\n",
       "723  2009    El Salvador      100          55\n",
       "724  2009         Panama       30          24\n",
       "725  2009       Honduras       30          14\n",
       "726  2009      Nicaragua       24          24\n",
       "727  2009      Guatemala       20          20\n",
       "\n",
       "[728 rows x 4 columns]"
      ]
     },
     "execution_count": 16,
     "metadata": {},
     "output_type": "execute_result"
    }
   ],
   "source": [
    "exportacao_ultimos_15anos"
   ]
  },
  {
   "cell_type": "code",
   "execution_count": null,
   "id": "eaf595f4",
   "metadata": {},
   "outputs": [],
   "source": []
  }
 ],
 "metadata": {
  "kernelspec": {
   "display_name": "Python 3 (ipykernel)",
   "language": "python",
   "name": "python3"
  },
  "language_info": {
   "codemirror_mode": {
    "name": "ipython",
    "version": 3
   },
   "file_extension": ".py",
   "mimetype": "text/x-python",
   "name": "python",
   "nbconvert_exporter": "python",
   "pygments_lexer": "ipython3",
   "version": "3.9.13"
  }
 },
 "nbformat": 4,
 "nbformat_minor": 5
}
